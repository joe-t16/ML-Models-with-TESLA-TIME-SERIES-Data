{
 "cells": [
  {
   "cell_type": "code",
   "execution_count": 1,
   "metadata": {},
   "outputs": [],
   "source": [
    "import pandas as pd"
   ]
  },
  {
   "cell_type": "code",
   "execution_count": 2,
   "metadata": {},
   "outputs": [],
   "source": [
    "data=pd.read_csv('tesla.csv')"
   ]
  },
  {
   "cell_type": "code",
   "execution_count": 3,
   "metadata": {},
   "outputs": [
    {
     "data": {
      "text/html": [
       "<div>\n",
       "<style scoped>\n",
       "    .dataframe tbody tr th:only-of-type {\n",
       "        vertical-align: middle;\n",
       "    }\n",
       "\n",
       "    .dataframe tbody tr th {\n",
       "        vertical-align: top;\n",
       "    }\n",
       "\n",
       "    .dataframe thead th {\n",
       "        text-align: right;\n",
       "    }\n",
       "</style>\n",
       "<table border=\"1\" class=\"dataframe\">\n",
       "  <thead>\n",
       "    <tr style=\"text-align: right;\">\n",
       "      <th></th>\n",
       "      <th>Date</th>\n",
       "      <th>Open</th>\n",
       "      <th>High</th>\n",
       "      <th>Low</th>\n",
       "      <th>Close</th>\n",
       "      <th>Adj Close</th>\n",
       "      <th>Volume</th>\n",
       "    </tr>\n",
       "  </thead>\n",
       "  <tbody>\n",
       "    <tr>\n",
       "      <th>0</th>\n",
       "      <td>29-06-2010</td>\n",
       "      <td>19.000000</td>\n",
       "      <td>25.000000</td>\n",
       "      <td>17.540001</td>\n",
       "      <td>23.889999</td>\n",
       "      <td>23.889999</td>\n",
       "      <td>18766300</td>\n",
       "    </tr>\n",
       "    <tr>\n",
       "      <th>1</th>\n",
       "      <td>30-06-2010</td>\n",
       "      <td>25.790001</td>\n",
       "      <td>30.420000</td>\n",
       "      <td>23.299999</td>\n",
       "      <td>23.830000</td>\n",
       "      <td>23.830000</td>\n",
       "      <td>17187100</td>\n",
       "    </tr>\n",
       "    <tr>\n",
       "      <th>2</th>\n",
       "      <td>01-07-2010</td>\n",
       "      <td>25.000000</td>\n",
       "      <td>25.920000</td>\n",
       "      <td>20.270000</td>\n",
       "      <td>21.959999</td>\n",
       "      <td>21.959999</td>\n",
       "      <td>8218800</td>\n",
       "    </tr>\n",
       "    <tr>\n",
       "      <th>3</th>\n",
       "      <td>02-07-2010</td>\n",
       "      <td>23.000000</td>\n",
       "      <td>23.100000</td>\n",
       "      <td>18.709999</td>\n",
       "      <td>19.200001</td>\n",
       "      <td>19.200001</td>\n",
       "      <td>5139800</td>\n",
       "    </tr>\n",
       "    <tr>\n",
       "      <th>4</th>\n",
       "      <td>06-07-2010</td>\n",
       "      <td>20.000000</td>\n",
       "      <td>20.000000</td>\n",
       "      <td>15.830000</td>\n",
       "      <td>16.110001</td>\n",
       "      <td>16.110001</td>\n",
       "      <td>6866900</td>\n",
       "    </tr>\n",
       "    <tr>\n",
       "      <th>...</th>\n",
       "      <td>...</td>\n",
       "      <td>...</td>\n",
       "      <td>...</td>\n",
       "      <td>...</td>\n",
       "      <td>...</td>\n",
       "      <td>...</td>\n",
       "      <td>...</td>\n",
       "    </tr>\n",
       "    <tr>\n",
       "      <th>2188</th>\n",
       "      <td>11-03-2019</td>\n",
       "      <td>283.519989</td>\n",
       "      <td>291.279999</td>\n",
       "      <td>280.500000</td>\n",
       "      <td>290.920013</td>\n",
       "      <td>290.920013</td>\n",
       "      <td>7392300</td>\n",
       "    </tr>\n",
       "    <tr>\n",
       "      <th>2189</th>\n",
       "      <td>12-03-2019</td>\n",
       "      <td>286.489990</td>\n",
       "      <td>288.070007</td>\n",
       "      <td>281.059998</td>\n",
       "      <td>283.359985</td>\n",
       "      <td>283.359985</td>\n",
       "      <td>7504100</td>\n",
       "    </tr>\n",
       "    <tr>\n",
       "      <th>2190</th>\n",
       "      <td>13-03-2019</td>\n",
       "      <td>283.899994</td>\n",
       "      <td>291.989990</td>\n",
       "      <td>282.700012</td>\n",
       "      <td>288.959991</td>\n",
       "      <td>288.959991</td>\n",
       "      <td>6844700</td>\n",
       "    </tr>\n",
       "    <tr>\n",
       "      <th>2191</th>\n",
       "      <td>14-03-2019</td>\n",
       "      <td>292.450012</td>\n",
       "      <td>295.390015</td>\n",
       "      <td>288.290009</td>\n",
       "      <td>289.959991</td>\n",
       "      <td>289.959991</td>\n",
       "      <td>7074200</td>\n",
       "    </tr>\n",
       "    <tr>\n",
       "      <th>2192</th>\n",
       "      <td>15-03-2019</td>\n",
       "      <td>283.510010</td>\n",
       "      <td>283.723999</td>\n",
       "      <td>274.399994</td>\n",
       "      <td>275.429993</td>\n",
       "      <td>275.429993</td>\n",
       "      <td>14758243</td>\n",
       "    </tr>\n",
       "  </tbody>\n",
       "</table>\n",
       "<p>2193 rows × 7 columns</p>\n",
       "</div>"
      ],
      "text/plain": [
       "            Date        Open        High         Low       Close   Adj Close  \\\n",
       "0     29-06-2010   19.000000   25.000000   17.540001   23.889999   23.889999   \n",
       "1     30-06-2010   25.790001   30.420000   23.299999   23.830000   23.830000   \n",
       "2     01-07-2010   25.000000   25.920000   20.270000   21.959999   21.959999   \n",
       "3     02-07-2010   23.000000   23.100000   18.709999   19.200001   19.200001   \n",
       "4     06-07-2010   20.000000   20.000000   15.830000   16.110001   16.110001   \n",
       "...          ...         ...         ...         ...         ...         ...   \n",
       "2188  11-03-2019  283.519989  291.279999  280.500000  290.920013  290.920013   \n",
       "2189  12-03-2019  286.489990  288.070007  281.059998  283.359985  283.359985   \n",
       "2190  13-03-2019  283.899994  291.989990  282.700012  288.959991  288.959991   \n",
       "2191  14-03-2019  292.450012  295.390015  288.290009  289.959991  289.959991   \n",
       "2192  15-03-2019  283.510010  283.723999  274.399994  275.429993  275.429993   \n",
       "\n",
       "        Volume  \n",
       "0     18766300  \n",
       "1     17187100  \n",
       "2      8218800  \n",
       "3      5139800  \n",
       "4      6866900  \n",
       "...        ...  \n",
       "2188   7392300  \n",
       "2189   7504100  \n",
       "2190   6844700  \n",
       "2191   7074200  \n",
       "2192  14758243  \n",
       "\n",
       "[2193 rows x 7 columns]"
      ]
     },
     "execution_count": 3,
     "metadata": {},
     "output_type": "execute_result"
    }
   ],
   "source": [
    "data"
   ]
  },
  {
   "cell_type": "code",
   "execution_count": 4,
   "metadata": {},
   "outputs": [
    {
     "data": {
      "text/plain": [
       "<AxesSubplot:>"
      ]
     },
     "execution_count": 4,
     "metadata": {},
     "output_type": "execute_result"
    },
    {
     "data": {
      "image/png": "[encoded data removed]",
      "text/plain": [
       "<Figure size 720x360 with 1 Axes>"
      ]
     },
     "metadata": {
      "needs_background": "light"
     },
     "output_type": "display_data"
    }
   ],
   "source": [
    "data['High'].plot(figsize=(10,5))"
   ]
  },
  {
   "cell_type": "code",
   "execution_count": 6,
   "metadata": {},
   "outputs": [
    {
     "data": {
      "text/plain": [
       "(2193, 7)"
      ]
     },
     "execution_count": 6,
     "metadata": {},
     "output_type": "execute_result"
    }
   ],
   "source": [
    "data.shape"
   ]
  },
  {
   "cell_type": "code",
   "execution_count": 64,
   "metadata": {},
   "outputs": [],
   "source": [
    "# from statsmodels.tsa.seasonal import seasonal_decompose\n",
    "\n",
    "# ndata= data.reset_index(inplace=True)\n",
    "# #ndata.dropna()\n",
    "# output = seasonal_decompose(ndata)\n",
    " \n",
    "# # creating plot\n",
    "# #output.plot()"
   ]
  },
  {
   "cell_type": "code",
   "execution_count": 65,
   "metadata": {},
   "outputs": [],
   "source": [
    "## Each row will contain D days of close data and I want to predict the close value for day D+1"
   ]
  },
  {
   "cell_type": "markdown",
   "metadata": {},
   "source": [
    "# Model 1"
   ]
  },
  {
   "cell_type": "code",
   "execution_count": 66,
   "metadata": {},
   "outputs": [],
   "source": [
    "data=data[['Date','Close']]"
   ]
  },
  {
   "cell_type": "code",
   "execution_count": 67,
   "metadata": {},
   "outputs": [
    {
     "data": {
      "text/html": [
       "<div>\n",
       "<style scoped>\n",
       "    .dataframe tbody tr th:only-of-type {\n",
       "        vertical-align: middle;\n",
       "    }\n",
       "\n",
       "    .dataframe tbody tr th {\n",
       "        vertical-align: top;\n",
       "    }\n",
       "\n",
       "    .dataframe thead th {\n",
       "        text-align: right;\n",
       "    }\n",
       "</style>\n",
       "<table border=\"1\" class=\"dataframe\">\n",
       "  <thead>\n",
       "    <tr style=\"text-align: right;\">\n",
       "      <th></th>\n",
       "      <th>Date</th>\n",
       "      <th>Close</th>\n",
       "    </tr>\n",
       "  </thead>\n",
       "  <tbody>\n",
       "    <tr>\n",
       "      <th>0</th>\n",
       "      <td>29-06-2010</td>\n",
       "      <td>23.889999</td>\n",
       "    </tr>\n",
       "    <tr>\n",
       "      <th>1</th>\n",
       "      <td>30-06-2010</td>\n",
       "      <td>23.830000</td>\n",
       "    </tr>\n",
       "    <tr>\n",
       "      <th>2</th>\n",
       "      <td>01-07-2010</td>\n",
       "      <td>21.959999</td>\n",
       "    </tr>\n",
       "    <tr>\n",
       "      <th>3</th>\n",
       "      <td>02-07-2010</td>\n",
       "      <td>19.200001</td>\n",
       "    </tr>\n",
       "    <tr>\n",
       "      <th>4</th>\n",
       "      <td>06-07-2010</td>\n",
       "      <td>16.110001</td>\n",
       "    </tr>\n",
       "    <tr>\n",
       "      <th>...</th>\n",
       "      <td>...</td>\n",
       "      <td>...</td>\n",
       "    </tr>\n",
       "    <tr>\n",
       "      <th>2188</th>\n",
       "      <td>11-03-2019</td>\n",
       "      <td>290.920013</td>\n",
       "    </tr>\n",
       "    <tr>\n",
       "      <th>2189</th>\n",
       "      <td>12-03-2019</td>\n",
       "      <td>283.359985</td>\n",
       "    </tr>\n",
       "    <tr>\n",
       "      <th>2190</th>\n",
       "      <td>13-03-2019</td>\n",
       "      <td>288.959991</td>\n",
       "    </tr>\n",
       "    <tr>\n",
       "      <th>2191</th>\n",
       "      <td>14-03-2019</td>\n",
       "      <td>289.959991</td>\n",
       "    </tr>\n",
       "    <tr>\n",
       "      <th>2192</th>\n",
       "      <td>15-03-2019</td>\n",
       "      <td>275.429993</td>\n",
       "    </tr>\n",
       "  </tbody>\n",
       "</table>\n",
       "<p>2193 rows × 2 columns</p>\n",
       "</div>"
      ],
      "text/plain": [
       "            Date       Close\n",
       "0     29-06-2010   23.889999\n",
       "1     30-06-2010   23.830000\n",
       "2     01-07-2010   21.959999\n",
       "3     02-07-2010   19.200001\n",
       "4     06-07-2010   16.110001\n",
       "...          ...         ...\n",
       "2188  11-03-2019  290.920013\n",
       "2189  12-03-2019  283.359985\n",
       "2190  13-03-2019  288.959991\n",
       "2191  14-03-2019  289.959991\n",
       "2192  15-03-2019  275.429993\n",
       "\n",
       "[2193 rows x 2 columns]"
      ]
     },
     "execution_count": 67,
     "metadata": {},
     "output_type": "execute_result"
    }
   ],
   "source": [
    "data"
   ]
  },
  {
   "cell_type": "code",
   "execution_count": 68,
   "metadata": {},
   "outputs": [],
   "source": [
    "# data['sample-']=data['Close'].shift(-1)\n",
    "# data['sample+']=data['Close'].shift(1)\n",
    "# data"
   ]
  },
  {
   "cell_type": "code",
   "execution_count": 69,
   "metadata": {},
   "outputs": [],
   "source": [
    "# 23.889999 23.830000 21.959999 ...\n",
    "# 23.830000 21.959999 ...\n",
    "# 21.959999"
   ]
  },
  {
   "cell_type": "code",
   "execution_count": 70,
   "metadata": {},
   "outputs": [
    {
     "name": "stderr",
     "output_type": "stream",
     "text": [
      "C:\\Users\\tette\\AppData\\Local\\Temp\\ipykernel_904\\758209505.py:4: SettingWithCopyWarning: \n",
      "A value is trying to be set on a copy of a slice from a DataFrame.\n",
      "Try using .loc[row_indexer,col_indexer] = value instead\n",
      "\n",
      "See the caveats in the documentation: https://pandas.pydata.org/pandas-docs/stable/user_guide/indexing.html#returning-a-view-versus-a-copy\n",
      "  data[f'Close_{ii}']=data['Close'].shift(-ii)\n",
      "C:\\Users\\tette\\AppData\\Local\\Temp\\ipykernel_904\\758209505.py:4: SettingWithCopyWarning: \n",
      "A value is trying to be set on a copy of a slice from a DataFrame.\n",
      "Try using .loc[row_indexer,col_indexer] = value instead\n",
      "\n",
      "See the caveats in the documentation: https://pandas.pydata.org/pandas-docs/stable/user_guide/indexing.html#returning-a-view-versus-a-copy\n",
      "  data[f'Close_{ii}']=data['Close'].shift(-ii)\n",
      "C:\\Users\\tette\\AppData\\Local\\Temp\\ipykernel_904\\758209505.py:4: SettingWithCopyWarning: \n",
      "A value is trying to be set on a copy of a slice from a DataFrame.\n",
      "Try using .loc[row_indexer,col_indexer] = value instead\n",
      "\n",
      "See the caveats in the documentation: https://pandas.pydata.org/pandas-docs/stable/user_guide/indexing.html#returning-a-view-versus-a-copy\n",
      "  data[f'Close_{ii}']=data['Close'].shift(-ii)\n",
      "C:\\Users\\tette\\AppData\\Local\\Temp\\ipykernel_904\\758209505.py:4: SettingWithCopyWarning: \n",
      "A value is trying to be set on a copy of a slice from a DataFrame.\n",
      "Try using .loc[row_indexer,col_indexer] = value instead\n",
      "\n",
      "See the caveats in the documentation: https://pandas.pydata.org/pandas-docs/stable/user_guide/indexing.html#returning-a-view-versus-a-copy\n",
      "  data[f'Close_{ii}']=data['Close'].shift(-ii)\n"
     ]
    }
   ],
   "source": [
    "## Prepare time series data\n",
    "days=15\n",
    "for ii in range(days+1):\n",
    "    data[f'Close_{ii}']=data['Close'].shift(-ii)"
   ]
  },
  {
   "cell_type": "code",
   "execution_count": 71,
   "metadata": {},
   "outputs": [],
   "source": [
    "data_red=data.iloc[:,2:].dropna()"
   ]
  },
  {
   "cell_type": "code",
   "execution_count": 72,
   "metadata": {},
   "outputs": [
    {
     "data": {
      "text/html": [
       "<div>\n",
       "<style scoped>\n",
       "    .dataframe tbody tr th:only-of-type {\n",
       "        vertical-align: middle;\n",
       "    }\n",
       "\n",
       "    .dataframe tbody tr th {\n",
       "        vertical-align: top;\n",
       "    }\n",
       "\n",
       "    .dataframe thead th {\n",
       "        text-align: right;\n",
       "    }\n",
       "</style>\n",
       "<table border=\"1\" class=\"dataframe\">\n",
       "  <thead>\n",
       "    <tr style=\"text-align: right;\">\n",
       "      <th></th>\n",
       "      <th>Close_0</th>\n",
       "      <th>Close_1</th>\n",
       "      <th>Close_2</th>\n",
       "      <th>Close_3</th>\n",
       "      <th>Close_4</th>\n",
       "      <th>Close_5</th>\n",
       "      <th>Close_6</th>\n",
       "      <th>Close_7</th>\n",
       "      <th>Close_8</th>\n",
       "      <th>Close_9</th>\n",
       "      <th>Close_10</th>\n",
       "      <th>Close_11</th>\n",
       "      <th>Close_12</th>\n",
       "      <th>Close_13</th>\n",
       "      <th>Close_14</th>\n",
       "      <th>Close_15</th>\n",
       "    </tr>\n",
       "  </thead>\n",
       "  <tbody>\n",
       "    <tr>\n",
       "      <th>0</th>\n",
       "      <td>23.889999</td>\n",
       "      <td>23.830000</td>\n",
       "      <td>21.959999</td>\n",
       "      <td>19.200001</td>\n",
       "      <td>16.110001</td>\n",
       "      <td>15.800000</td>\n",
       "      <td>17.459999</td>\n",
       "      <td>17.400000</td>\n",
       "      <td>17.049999</td>\n",
       "      <td>18.139999</td>\n",
       "      <td>19.840000</td>\n",
       "      <td>19.889999</td>\n",
       "      <td>20.639999</td>\n",
       "      <td>21.910000</td>\n",
       "      <td>20.299999</td>\n",
       "      <td>20.219999</td>\n",
       "    </tr>\n",
       "    <tr>\n",
       "      <th>1</th>\n",
       "      <td>23.830000</td>\n",
       "      <td>21.959999</td>\n",
       "      <td>19.200001</td>\n",
       "      <td>16.110001</td>\n",
       "      <td>15.800000</td>\n",
       "      <td>17.459999</td>\n",
       "      <td>17.400000</td>\n",
       "      <td>17.049999</td>\n",
       "      <td>18.139999</td>\n",
       "      <td>19.840000</td>\n",
       "      <td>19.889999</td>\n",
       "      <td>20.639999</td>\n",
       "      <td>21.910000</td>\n",
       "      <td>20.299999</td>\n",
       "      <td>20.219999</td>\n",
       "      <td>21.000000</td>\n",
       "    </tr>\n",
       "    <tr>\n",
       "      <th>2</th>\n",
       "      <td>21.959999</td>\n",
       "      <td>19.200001</td>\n",
       "      <td>16.110001</td>\n",
       "      <td>15.800000</td>\n",
       "      <td>17.459999</td>\n",
       "      <td>17.400000</td>\n",
       "      <td>17.049999</td>\n",
       "      <td>18.139999</td>\n",
       "      <td>19.840000</td>\n",
       "      <td>19.889999</td>\n",
       "      <td>20.639999</td>\n",
       "      <td>21.910000</td>\n",
       "      <td>20.299999</td>\n",
       "      <td>20.219999</td>\n",
       "      <td>21.000000</td>\n",
       "      <td>21.290001</td>\n",
       "    </tr>\n",
       "    <tr>\n",
       "      <th>3</th>\n",
       "      <td>19.200001</td>\n",
       "      <td>16.110001</td>\n",
       "      <td>15.800000</td>\n",
       "      <td>17.459999</td>\n",
       "      <td>17.400000</td>\n",
       "      <td>17.049999</td>\n",
       "      <td>18.139999</td>\n",
       "      <td>19.840000</td>\n",
       "      <td>19.889999</td>\n",
       "      <td>20.639999</td>\n",
       "      <td>21.910000</td>\n",
       "      <td>20.299999</td>\n",
       "      <td>20.219999</td>\n",
       "      <td>21.000000</td>\n",
       "      <td>21.290001</td>\n",
       "      <td>20.950001</td>\n",
       "    </tr>\n",
       "    <tr>\n",
       "      <th>4</th>\n",
       "      <td>16.110001</td>\n",
       "      <td>15.800000</td>\n",
       "      <td>17.459999</td>\n",
       "      <td>17.400000</td>\n",
       "      <td>17.049999</td>\n",
       "      <td>18.139999</td>\n",
       "      <td>19.840000</td>\n",
       "      <td>19.889999</td>\n",
       "      <td>20.639999</td>\n",
       "      <td>21.910000</td>\n",
       "      <td>20.299999</td>\n",
       "      <td>20.219999</td>\n",
       "      <td>21.000000</td>\n",
       "      <td>21.290001</td>\n",
       "      <td>20.950001</td>\n",
       "      <td>20.549999</td>\n",
       "    </tr>\n",
       "  </tbody>\n",
       "</table>\n",
       "</div>"
      ],
      "text/plain": [
       "     Close_0    Close_1    Close_2    Close_3    Close_4    Close_5  \\\n",
       "0  23.889999  23.830000  21.959999  19.200001  16.110001  15.800000   \n",
       "1  23.830000  21.959999  19.200001  16.110001  15.800000  17.459999   \n",
       "2  21.959999  19.200001  16.110001  15.800000  17.459999  17.400000   \n",
       "3  19.200001  16.110001  15.800000  17.459999  17.400000  17.049999   \n",
       "4  16.110001  15.800000  17.459999  17.400000  17.049999  18.139999   \n",
       "\n",
       "     Close_6    Close_7    Close_8    Close_9   Close_10   Close_11  \\\n",
       "0  17.459999  17.400000  17.049999  18.139999  19.840000  19.889999   \n",
       "1  17.400000  17.049999  18.139999  19.840000  19.889999  20.639999   \n",
       "2  17.049999  18.139999  19.840000  19.889999  20.639999  21.910000   \n",
       "3  18.139999  19.840000  19.889999  20.639999  21.910000  20.299999   \n",
       "4  19.840000  19.889999  20.639999  21.910000  20.299999  20.219999   \n",
       "\n",
       "    Close_12   Close_13   Close_14   Close_15  \n",
       "0  20.639999  21.910000  20.299999  20.219999  \n",
       "1  21.910000  20.299999  20.219999  21.000000  \n",
       "2  20.299999  20.219999  21.000000  21.290001  \n",
       "3  20.219999  21.000000  21.290001  20.950001  \n",
       "4  21.000000  21.290001  20.950001  20.549999  "
      ]
     },
     "execution_count": 72,
     "metadata": {},
     "output_type": "execute_result"
    }
   ],
   "source": [
    "data_red.head()"
   ]
  },
  {
   "cell_type": "code",
   "execution_count": 12,
   "metadata": {},
   "outputs": [],
   "source": [
    "X= data_red.drop('Close_15',axis=1) ## feature matrix (close values for days 0-14)\n",
    "y= data_red['Close_15']             ## target variable (close value for day 15)\n"
   ]
  },
  {
   "cell_type": "code",
   "execution_count": 13,
   "metadata": {},
   "outputs": [
    {
     "data": {
      "text/html": [
       "<div>\n",
       "<style scoped>\n",
       "    .dataframe tbody tr th:only-of-type {\n",
       "        vertical-align: middle;\n",
       "    }\n",
       "\n",
       "    .dataframe tbody tr th {\n",
       "        vertical-align: top;\n",
       "    }\n",
       "\n",
       "    .dataframe thead th {\n",
       "        text-align: right;\n",
       "    }\n",
       "</style>\n",
       "<table border=\"1\" class=\"dataframe\">\n",
       "  <thead>\n",
       "    <tr style=\"text-align: right;\">\n",
       "      <th></th>\n",
       "      <th>Close_0</th>\n",
       "      <th>Close_1</th>\n",
       "      <th>Close_2</th>\n",
       "      <th>Close_3</th>\n",
       "      <th>Close_4</th>\n",
       "      <th>Close_5</th>\n",
       "      <th>Close_6</th>\n",
       "      <th>Close_7</th>\n",
       "      <th>Close_8</th>\n",
       "      <th>Close_9</th>\n",
       "      <th>Close_10</th>\n",
       "      <th>Close_11</th>\n",
       "      <th>Close_12</th>\n",
       "      <th>Close_13</th>\n",
       "      <th>Close_14</th>\n",
       "    </tr>\n",
       "  </thead>\n",
       "  <tbody>\n",
       "    <tr>\n",
       "      <th>0</th>\n",
       "      <td>23.889999</td>\n",
       "      <td>23.830000</td>\n",
       "      <td>21.959999</td>\n",
       "      <td>19.200001</td>\n",
       "      <td>16.110001</td>\n",
       "      <td>15.800000</td>\n",
       "      <td>17.459999</td>\n",
       "      <td>17.400000</td>\n",
       "      <td>17.049999</td>\n",
       "      <td>18.139999</td>\n",
       "      <td>19.840000</td>\n",
       "      <td>19.889999</td>\n",
       "      <td>20.639999</td>\n",
       "      <td>21.910000</td>\n",
       "      <td>20.299999</td>\n",
       "    </tr>\n",
       "    <tr>\n",
       "      <th>1</th>\n",
       "      <td>23.830000</td>\n",
       "      <td>21.959999</td>\n",
       "      <td>19.200001</td>\n",
       "      <td>16.110001</td>\n",
       "      <td>15.800000</td>\n",
       "      <td>17.459999</td>\n",
       "      <td>17.400000</td>\n",
       "      <td>17.049999</td>\n",
       "      <td>18.139999</td>\n",
       "      <td>19.840000</td>\n",
       "      <td>19.889999</td>\n",
       "      <td>20.639999</td>\n",
       "      <td>21.910000</td>\n",
       "      <td>20.299999</td>\n",
       "      <td>20.219999</td>\n",
       "    </tr>\n",
       "    <tr>\n",
       "      <th>2</th>\n",
       "      <td>21.959999</td>\n",
       "      <td>19.200001</td>\n",
       "      <td>16.110001</td>\n",
       "      <td>15.800000</td>\n",
       "      <td>17.459999</td>\n",
       "      <td>17.400000</td>\n",
       "      <td>17.049999</td>\n",
       "      <td>18.139999</td>\n",
       "      <td>19.840000</td>\n",
       "      <td>19.889999</td>\n",
       "      <td>20.639999</td>\n",
       "      <td>21.910000</td>\n",
       "      <td>20.299999</td>\n",
       "      <td>20.219999</td>\n",
       "      <td>21.000000</td>\n",
       "    </tr>\n",
       "    <tr>\n",
       "      <th>3</th>\n",
       "      <td>19.200001</td>\n",
       "      <td>16.110001</td>\n",
       "      <td>15.800000</td>\n",
       "      <td>17.459999</td>\n",
       "      <td>17.400000</td>\n",
       "      <td>17.049999</td>\n",
       "      <td>18.139999</td>\n",
       "      <td>19.840000</td>\n",
       "      <td>19.889999</td>\n",
       "      <td>20.639999</td>\n",
       "      <td>21.910000</td>\n",
       "      <td>20.299999</td>\n",
       "      <td>20.219999</td>\n",
       "      <td>21.000000</td>\n",
       "      <td>21.290001</td>\n",
       "    </tr>\n",
       "    <tr>\n",
       "      <th>4</th>\n",
       "      <td>16.110001</td>\n",
       "      <td>15.800000</td>\n",
       "      <td>17.459999</td>\n",
       "      <td>17.400000</td>\n",
       "      <td>17.049999</td>\n",
       "      <td>18.139999</td>\n",
       "      <td>19.840000</td>\n",
       "      <td>19.889999</td>\n",
       "      <td>20.639999</td>\n",
       "      <td>21.910000</td>\n",
       "      <td>20.299999</td>\n",
       "      <td>20.219999</td>\n",
       "      <td>21.000000</td>\n",
       "      <td>21.290001</td>\n",
       "      <td>20.950001</td>\n",
       "    </tr>\n",
       "    <tr>\n",
       "      <th>...</th>\n",
       "      <td>...</td>\n",
       "      <td>...</td>\n",
       "      <td>...</td>\n",
       "      <td>...</td>\n",
       "      <td>...</td>\n",
       "      <td>...</td>\n",
       "      <td>...</td>\n",
       "      <td>...</td>\n",
       "      <td>...</td>\n",
       "      <td>...</td>\n",
       "      <td>...</td>\n",
       "      <td>...</td>\n",
       "      <td>...</td>\n",
       "      <td>...</td>\n",
       "      <td>...</td>\n",
       "    </tr>\n",
       "    <tr>\n",
       "      <th>2173</th>\n",
       "      <td>307.880005</td>\n",
       "      <td>305.640015</td>\n",
       "      <td>302.559998</td>\n",
       "      <td>291.230011</td>\n",
       "      <td>294.709991</td>\n",
       "      <td>298.769989</td>\n",
       "      <td>297.859985</td>\n",
       "      <td>314.739990</td>\n",
       "      <td>319.880005</td>\n",
       "      <td>294.790009</td>\n",
       "      <td>285.359985</td>\n",
       "      <td>276.540009</td>\n",
       "      <td>276.239990</td>\n",
       "      <td>276.589996</td>\n",
       "      <td>284.140015</td>\n",
       "    </tr>\n",
       "    <tr>\n",
       "      <th>2174</th>\n",
       "      <td>305.640015</td>\n",
       "      <td>302.559998</td>\n",
       "      <td>291.230011</td>\n",
       "      <td>294.709991</td>\n",
       "      <td>298.769989</td>\n",
       "      <td>297.859985</td>\n",
       "      <td>314.739990</td>\n",
       "      <td>319.880005</td>\n",
       "      <td>294.790009</td>\n",
       "      <td>285.359985</td>\n",
       "      <td>276.540009</td>\n",
       "      <td>276.239990</td>\n",
       "      <td>276.589996</td>\n",
       "      <td>284.140015</td>\n",
       "      <td>290.920013</td>\n",
       "    </tr>\n",
       "    <tr>\n",
       "      <th>2175</th>\n",
       "      <td>302.559998</td>\n",
       "      <td>291.230011</td>\n",
       "      <td>294.709991</td>\n",
       "      <td>298.769989</td>\n",
       "      <td>297.859985</td>\n",
       "      <td>314.739990</td>\n",
       "      <td>319.880005</td>\n",
       "      <td>294.790009</td>\n",
       "      <td>285.359985</td>\n",
       "      <td>276.540009</td>\n",
       "      <td>276.239990</td>\n",
       "      <td>276.589996</td>\n",
       "      <td>284.140015</td>\n",
       "      <td>290.920013</td>\n",
       "      <td>283.359985</td>\n",
       "    </tr>\n",
       "    <tr>\n",
       "      <th>2176</th>\n",
       "      <td>291.230011</td>\n",
       "      <td>294.709991</td>\n",
       "      <td>298.769989</td>\n",
       "      <td>297.859985</td>\n",
       "      <td>314.739990</td>\n",
       "      <td>319.880005</td>\n",
       "      <td>294.790009</td>\n",
       "      <td>285.359985</td>\n",
       "      <td>276.540009</td>\n",
       "      <td>276.239990</td>\n",
       "      <td>276.589996</td>\n",
       "      <td>284.140015</td>\n",
       "      <td>290.920013</td>\n",
       "      <td>283.359985</td>\n",
       "      <td>288.959991</td>\n",
       "    </tr>\n",
       "    <tr>\n",
       "      <th>2177</th>\n",
       "      <td>294.709991</td>\n",
       "      <td>298.769989</td>\n",
       "      <td>297.859985</td>\n",
       "      <td>314.739990</td>\n",
       "      <td>319.880005</td>\n",
       "      <td>294.790009</td>\n",
       "      <td>285.359985</td>\n",
       "      <td>276.540009</td>\n",
       "      <td>276.239990</td>\n",
       "      <td>276.589996</td>\n",
       "      <td>284.140015</td>\n",
       "      <td>290.920013</td>\n",
       "      <td>283.359985</td>\n",
       "      <td>288.959991</td>\n",
       "      <td>289.959991</td>\n",
       "    </tr>\n",
       "  </tbody>\n",
       "</table>\n",
       "<p>2178 rows × 15 columns</p>\n",
       "</div>"
      ],
      "text/plain": [
       "         Close_0     Close_1     Close_2     Close_3     Close_4     Close_5  \\\n",
       "0      23.889999   23.830000   21.959999   19.200001   16.110001   15.800000   \n",
       "1      23.830000   21.959999   19.200001   16.110001   15.800000   17.459999   \n",
       "2      21.959999   19.200001   16.110001   15.800000   17.459999   17.400000   \n",
       "3      19.200001   16.110001   15.800000   17.459999   17.400000   17.049999   \n",
       "4      16.110001   15.800000   17.459999   17.400000   17.049999   18.139999   \n",
       "...          ...         ...         ...         ...         ...         ...   \n",
       "2173  307.880005  305.640015  302.559998  291.230011  294.709991  298.769989   \n",
       "2174  305.640015  302.559998  291.230011  294.709991  298.769989  297.859985   \n",
       "2175  302.559998  291.230011  294.709991  298.769989  297.859985  314.739990   \n",
       "2176  291.230011  294.709991  298.769989  297.859985  314.739990  319.880005   \n",
       "2177  294.709991  298.769989  297.859985  314.739990  319.880005  294.790009   \n",
       "\n",
       "         Close_6     Close_7     Close_8     Close_9    Close_10    Close_11  \\\n",
       "0      17.459999   17.400000   17.049999   18.139999   19.840000   19.889999   \n",
       "1      17.400000   17.049999   18.139999   19.840000   19.889999   20.639999   \n",
       "2      17.049999   18.139999   19.840000   19.889999   20.639999   21.910000   \n",
       "3      18.139999   19.840000   19.889999   20.639999   21.910000   20.299999   \n",
       "4      19.840000   19.889999   20.639999   21.910000   20.299999   20.219999   \n",
       "...          ...         ...         ...         ...         ...         ...   \n",
       "2173  297.859985  314.739990  319.880005  294.790009  285.359985  276.540009   \n",
       "2174  314.739990  319.880005  294.790009  285.359985  276.540009  276.239990   \n",
       "2175  319.880005  294.790009  285.359985  276.540009  276.239990  276.589996   \n",
       "2176  294.790009  285.359985  276.540009  276.239990  276.589996  284.140015   \n",
       "2177  285.359985  276.540009  276.239990  276.589996  284.140015  290.920013   \n",
       "\n",
       "        Close_12    Close_13    Close_14  \n",
       "0      20.639999   21.910000   20.299999  \n",
       "1      21.910000   20.299999   20.219999  \n",
       "2      20.299999   20.219999   21.000000  \n",
       "3      20.219999   21.000000   21.290001  \n",
       "4      21.000000   21.290001   20.950001  \n",
       "...          ...         ...         ...  \n",
       "2173  276.239990  276.589996  284.140015  \n",
       "2174  276.589996  284.140015  290.920013  \n",
       "2175  284.140015  290.920013  283.359985  \n",
       "2176  290.920013  283.359985  288.959991  \n",
       "2177  283.359985  288.959991  289.959991  \n",
       "\n",
       "[2178 rows x 15 columns]"
      ]
     },
     "execution_count": 13,
     "metadata": {},
     "output_type": "execute_result"
    }
   ],
   "source": [
    "X"
   ]
  },
  {
   "cell_type": "markdown",
   "metadata": {},
   "source": [
    "### Prepare for Training"
   ]
  },
  {
   "cell_type": "code",
   "execution_count": 14,
   "metadata": {},
   "outputs": [],
   "source": [
    "# Fully Connected Neural Network\n"
   ]
  },
  {
   "cell_type": "code",
   "execution_count": 15,
   "metadata": {},
   "outputs": [],
   "source": [
    "from sklearn.model_selection import train_test_split"
   ]
  },
  {
   "cell_type": "code",
   "execution_count": 16,
   "metadata": {},
   "outputs": [],
   "source": [
    "X_train,X_test,y_train,y_test=train_test_split(X,y,test_size=0.2,random_state=0)"
   ]
  },
  {
   "cell_type": "code",
   "execution_count": 17,
   "metadata": {},
   "outputs": [
    {
     "data": {
      "text/html": [
       "<div>\n",
       "<style scoped>\n",
       "    .dataframe tbody tr th:only-of-type {\n",
       "        vertical-align: middle;\n",
       "    }\n",
       "\n",
       "    .dataframe tbody tr th {\n",
       "        vertical-align: top;\n",
       "    }\n",
       "\n",
       "    .dataframe thead th {\n",
       "        text-align: right;\n",
       "    }\n",
       "</style>\n",
       "<table border=\"1\" class=\"dataframe\">\n",
       "  <thead>\n",
       "    <tr style=\"text-align: right;\">\n",
       "      <th></th>\n",
       "      <th>Close_0</th>\n",
       "      <th>Close_1</th>\n",
       "      <th>Close_2</th>\n",
       "      <th>Close_3</th>\n",
       "      <th>Close_4</th>\n",
       "      <th>Close_5</th>\n",
       "      <th>Close_6</th>\n",
       "      <th>Close_7</th>\n",
       "      <th>Close_8</th>\n",
       "      <th>Close_9</th>\n",
       "      <th>Close_10</th>\n",
       "      <th>Close_11</th>\n",
       "      <th>Close_12</th>\n",
       "      <th>Close_13</th>\n",
       "      <th>Close_14</th>\n",
       "    </tr>\n",
       "  </thead>\n",
       "  <tbody>\n",
       "    <tr>\n",
       "      <th>944</th>\n",
       "      <td>208.449997</td>\n",
       "      <td>216.970001</td>\n",
       "      <td>230.289993</td>\n",
       "      <td>225.399994</td>\n",
       "      <td>212.229996</td>\n",
       "      <td>207.520004</td>\n",
       "      <td>215.460007</td>\n",
       "      <td>216.929993</td>\n",
       "      <td>204.190002</td>\n",
       "      <td>203.779999</td>\n",
       "      <td>198.089996</td>\n",
       "      <td>193.910004</td>\n",
       "      <td>199.110001</td>\n",
       "      <td>198.119995</td>\n",
       "      <td>204.380005</td>\n",
       "    </tr>\n",
       "    <tr>\n",
       "      <th>1946</th>\n",
       "      <td>309.100006</td>\n",
       "      <td>301.540009</td>\n",
       "      <td>304.179993</td>\n",
       "      <td>279.179993</td>\n",
       "      <td>257.779999</td>\n",
       "      <td>266.130005</td>\n",
       "      <td>252.479996</td>\n",
       "      <td>267.529999</td>\n",
       "      <td>286.940002</td>\n",
       "      <td>305.720001</td>\n",
       "      <td>299.299988</td>\n",
       "      <td>289.660004</td>\n",
       "      <td>304.700012</td>\n",
       "      <td>300.929993</td>\n",
       "      <td>294.079987</td>\n",
       "    </tr>\n",
       "    <tr>\n",
       "      <th>1513</th>\n",
       "      <td>216.500000</td>\n",
       "      <td>213.979996</td>\n",
       "      <td>214.440002</td>\n",
       "      <td>215.940002</td>\n",
       "      <td>216.779999</td>\n",
       "      <td>224.779999</td>\n",
       "      <td>224.649994</td>\n",
       "      <td>222.529999</td>\n",
       "      <td>221.529999</td>\n",
       "      <td>220.399994</td>\n",
       "      <td>226.250000</td>\n",
       "      <td>225.259995</td>\n",
       "      <td>228.360001</td>\n",
       "      <td>220.500000</td>\n",
       "      <td>222.270004</td>\n",
       "    </tr>\n",
       "    <tr>\n",
       "      <th>1110</th>\n",
       "      <td>246.720001</td>\n",
       "      <td>248.089996</td>\n",
       "      <td>248.440002</td>\n",
       "      <td>244.520004</td>\n",
       "      <td>231.639999</td>\n",
       "      <td>231.429993</td>\n",
       "      <td>229.300003</td>\n",
       "      <td>228.279999</td>\n",
       "      <td>223.710007</td>\n",
       "      <td>214.360001</td>\n",
       "      <td>216.889999</td>\n",
       "      <td>209.839996</td>\n",
       "      <td>208.880005</td>\n",
       "      <td>207.000000</td>\n",
       "      <td>204.039993</td>\n",
       "    </tr>\n",
       "    <tr>\n",
       "      <th>1610</th>\n",
       "      <td>188.660004</td>\n",
       "      <td>185.020004</td>\n",
       "      <td>184.520004</td>\n",
       "      <td>191.169998</td>\n",
       "      <td>193.139999</td>\n",
       "      <td>196.649994</td>\n",
       "      <td>196.119995</td>\n",
       "      <td>189.570007</td>\n",
       "      <td>189.399994</td>\n",
       "      <td>181.880005</td>\n",
       "      <td>181.470001</td>\n",
       "      <td>186.800003</td>\n",
       "      <td>185.850006</td>\n",
       "      <td>193.149994</td>\n",
       "      <td>192.289993</td>\n",
       "    </tr>\n",
       "  </tbody>\n",
       "</table>\n",
       "</div>"
      ],
      "text/plain": [
       "         Close_0     Close_1     Close_2     Close_3     Close_4     Close_5  \\\n",
       "944   208.449997  216.970001  230.289993  225.399994  212.229996  207.520004   \n",
       "1946  309.100006  301.540009  304.179993  279.179993  257.779999  266.130005   \n",
       "1513  216.500000  213.979996  214.440002  215.940002  216.779999  224.779999   \n",
       "1110  246.720001  248.089996  248.440002  244.520004  231.639999  231.429993   \n",
       "1610  188.660004  185.020004  184.520004  191.169998  193.139999  196.649994   \n",
       "\n",
       "         Close_6     Close_7     Close_8     Close_9    Close_10    Close_11  \\\n",
       "944   215.460007  216.929993  204.190002  203.779999  198.089996  193.910004   \n",
       "1946  252.479996  267.529999  286.940002  305.720001  299.299988  289.660004   \n",
       "1513  224.649994  222.529999  221.529999  220.399994  226.250000  225.259995   \n",
       "1110  229.300003  228.279999  223.710007  214.360001  216.889999  209.839996   \n",
       "1610  196.119995  189.570007  189.399994  181.880005  181.470001  186.800003   \n",
       "\n",
       "        Close_12    Close_13    Close_14  \n",
       "944   199.110001  198.119995  204.380005  \n",
       "1946  304.700012  300.929993  294.079987  \n",
       "1513  228.360001  220.500000  222.270004  \n",
       "1110  208.880005  207.000000  204.039993  \n",
       "1610  185.850006  193.149994  192.289993  "
      ]
     },
     "execution_count": 17,
     "metadata": {},
     "output_type": "execute_result"
    }
   ],
   "source": [
    "X_train.head()"
   ]
  },
  {
   "cell_type": "code",
   "execution_count": 18,
   "metadata": {},
   "outputs": [
    {
     "data": {
      "text/html": [
       "<div>\n",
       "<style scoped>\n",
       "    .dataframe tbody tr th:only-of-type {\n",
       "        vertical-align: middle;\n",
       "    }\n",
       "\n",
       "    .dataframe tbody tr th {\n",
       "        vertical-align: top;\n",
       "    }\n",
       "\n",
       "    .dataframe thead th {\n",
       "        text-align: right;\n",
       "    }\n",
       "</style>\n",
       "<table border=\"1\" class=\"dataframe\">\n",
       "  <thead>\n",
       "    <tr style=\"text-align: right;\">\n",
       "      <th></th>\n",
       "      <th>Close_0</th>\n",
       "      <th>Close_1</th>\n",
       "      <th>Close_2</th>\n",
       "      <th>Close_3</th>\n",
       "      <th>Close_4</th>\n",
       "      <th>Close_5</th>\n",
       "    </tr>\n",
       "  </thead>\n",
       "  <tbody>\n",
       "    <tr>\n",
       "      <th>944</th>\n",
       "      <td>208.449997</td>\n",
       "      <td>216.970001</td>\n",
       "      <td>230.289993</td>\n",
       "      <td>225.399994</td>\n",
       "      <td>212.229996</td>\n",
       "      <td>207.520004</td>\n",
       "    </tr>\n",
       "    <tr>\n",
       "      <th>1946</th>\n",
       "      <td>309.100006</td>\n",
       "      <td>301.540009</td>\n",
       "      <td>304.179993</td>\n",
       "      <td>279.179993</td>\n",
       "      <td>257.779999</td>\n",
       "      <td>266.130005</td>\n",
       "    </tr>\n",
       "    <tr>\n",
       "      <th>1513</th>\n",
       "      <td>216.500000</td>\n",
       "      <td>213.979996</td>\n",
       "      <td>214.440002</td>\n",
       "      <td>215.940002</td>\n",
       "      <td>216.779999</td>\n",
       "      <td>224.779999</td>\n",
       "    </tr>\n",
       "    <tr>\n",
       "      <th>1110</th>\n",
       "      <td>246.720001</td>\n",
       "      <td>248.089996</td>\n",
       "      <td>248.440002</td>\n",
       "      <td>244.520004</td>\n",
       "      <td>231.639999</td>\n",
       "      <td>231.429993</td>\n",
       "    </tr>\n",
       "    <tr>\n",
       "      <th>1610</th>\n",
       "      <td>188.660004</td>\n",
       "      <td>185.020004</td>\n",
       "      <td>184.520004</td>\n",
       "      <td>191.169998</td>\n",
       "      <td>193.139999</td>\n",
       "      <td>196.649994</td>\n",
       "    </tr>\n",
       "  </tbody>\n",
       "</table>\n",
       "</div>"
      ],
      "text/plain": [
       "         Close_0     Close_1     Close_2     Close_3     Close_4     Close_5\n",
       "944   208.449997  216.970001  230.289993  225.399994  212.229996  207.520004\n",
       "1946  309.100006  301.540009  304.179993  279.179993  257.779999  266.130005\n",
       "1513  216.500000  213.979996  214.440002  215.940002  216.779999  224.779999\n",
       "1110  246.720001  248.089996  248.440002  244.520004  231.639999  231.429993\n",
       "1610  188.660004  185.020004  184.520004  191.169998  193.139999  196.649994"
      ]
     },
     "execution_count": 18,
     "metadata": {},
     "output_type": "execute_result"
    }
   ],
   "source": [
    "X_train.iloc[0:5,:6] ## just to better understand iloc vs loc"
   ]
  },
  {
   "cell_type": "code",
   "execution_count": 19,
   "metadata": {},
   "outputs": [
    {
     "data": {
      "text/plain": [
       "Close_0     208.449997\n",
       "Close_1     216.970001\n",
       "Close_2     230.289993\n",
       "Close_3     225.399994\n",
       "Close_4     212.229996\n",
       "Close_5     207.520004\n",
       "Close_6     215.460007\n",
       "Close_7     216.929993\n",
       "Close_8     204.190002\n",
       "Close_9     203.779999\n",
       "Close_10    198.089996\n",
       "Close_11    193.910004\n",
       "Close_12    199.110001\n",
       "Close_13    198.119995\n",
       "Close_14    204.380005\n",
       "Name: 944, dtype: float64"
      ]
     },
     "execution_count": 19,
     "metadata": {},
     "output_type": "execute_result"
    }
   ],
   "source": [
    "X_train.iloc[0,:] ## this access by position"
   ]
  },
  {
   "cell_type": "code",
   "execution_count": 20,
   "metadata": {},
   "outputs": [
    {
     "data": {
      "text/plain": [
       "Close_0     208.449997\n",
       "Close_1     216.970001\n",
       "Close_2     230.289993\n",
       "Close_3     225.399994\n",
       "Close_4     212.229996\n",
       "Close_5     207.520004\n",
       "Close_6     215.460007\n",
       "Close_7     216.929993\n",
       "Close_8     204.190002\n",
       "Close_9     203.779999\n",
       "Close_10    198.089996\n",
       "Close_11    193.910004\n",
       "Close_12    199.110001\n",
       "Close_13    198.119995\n",
       "Close_14    204.380005\n",
       "Name: 944, dtype: float64"
      ]
     },
     "execution_count": 20,
     "metadata": {},
     "output_type": "execute_result"
    }
   ],
   "source": [
    "X_train.loc[944,:] ## this access by index value"
   ]
  },
  {
   "cell_type": "code",
   "execution_count": 21,
   "metadata": {},
   "outputs": [],
   "source": [
    "\n",
    "## Neural Network: Fully connected"
   ]
  },
  {
   "cell_type": "code",
   "execution_count": 22,
   "metadata": {},
   "outputs": [],
   "source": [
    "from tensorflow.keras.models import Sequential\n",
    "from tensorflow.keras.layers import Dense, Dropout, Conv1D, LSTM, RNN, GRU"
   ]
  },
  {
   "cell_type": "code",
   "execution_count": 23,
   "metadata": {},
   "outputs": [],
   "source": [
    "# Conv2D --> images\n",
    "# Conv1D --> signals (audio, others), time series\n",
    "# LSTM   --> a type of RNN that is mainly used for time series\n",
    "# Dropout ->\n",
    "\n",
    "# Recurrent layers in Tensorflow: RNN, LSTM, GRU\n",
    "# Convolutional Neural Network: Conv2D + MaxPool2D + Flatten + Dense"
   ]
  },
  {
   "cell_type": "code",
   "execution_count": 24,
   "metadata": {},
   "outputs": [],
   "source": [
    "model=Sequential()\n",
    "model.add(Dense(128,input_dim=X_train.shape[1],activation='relu'))\n",
    "model.add(Dense(64,activation='relu'))\n",
    "model.add(Dense(32,activation='relu'))\n",
    "model.add(Dense(1))\n",
    "\n"
   ]
  },
  {
   "cell_type": "code",
   "execution_count": 25,
   "metadata": {},
   "outputs": [],
   "source": [
    "model.compile(optimizer='adam',loss='mean_squared_error',metrics=['mean_absolute_error'])"
   ]
  },
  {
   "cell_type": "code",
   "execution_count": 26,
   "metadata": {},
   "outputs": [
    {
     "data": {
      "text/plain": [
       "(1742, 15)"
      ]
     },
     "execution_count": 26,
     "metadata": {},
     "output_type": "execute_result"
    }
   ],
   "source": [
    "X_train.shape"
   ]
  },
  {
   "cell_type": "code",
   "execution_count": 27,
   "metadata": {},
   "outputs": [
    {
     "name": "stdout",
     "output_type": "stream",
     "text": [
      "Epoch 1/10\n",
      "55/55 [==============================] - 1s 4ms/step - loss: 5996.2866 - mean_absolute_error: 37.7678 - val_loss: 137.2250 - val_mean_absolute_error: 7.8165\n",
      "Epoch 2/10\n",
      "55/55 [==============================] - 0s 2ms/step - loss: 151.1806 - mean_absolute_error: 8.1671 - val_loss: 131.2826 - val_mean_absolute_error: 7.5790\n",
      "Epoch 3/10\n",
      "55/55 [==============================] - 0s 2ms/step - loss: 132.8417 - mean_absolute_error: 7.6742 - val_loss: 112.0643 - val_mean_absolute_error: 7.0335\n",
      "Epoch 4/10\n",
      "55/55 [==============================] - 0s 2ms/step - loss: 126.7228 - mean_absolute_error: 7.4265 - val_loss: 101.9597 - val_mean_absolute_error: 6.7277\n",
      "Epoch 5/10\n",
      "55/55 [==============================] - 0s 2ms/step - loss: 111.2619 - mean_absolute_error: 6.9757 - val_loss: 102.0898 - val_mean_absolute_error: 6.6137\n",
      "Epoch 6/10\n",
      "55/55 [==============================] - 0s 2ms/step - loss: 106.5004 - mean_absolute_error: 6.8279 - val_loss: 87.6970 - val_mean_absolute_error: 6.2066\n",
      "Epoch 7/10\n",
      "55/55 [==============================] - 0s 2ms/step - loss: 96.5562 - mean_absolute_error: 6.4331 - val_loss: 80.8409 - val_mean_absolute_error: 5.9651\n",
      "Epoch 8/10\n",
      "55/55 [==============================] - 0s 2ms/step - loss: 92.6852 - mean_absolute_error: 6.2962 - val_loss: 75.6075 - val_mean_absolute_error: 5.7307\n",
      "Epoch 9/10\n",
      "55/55 [==============================] - 0s 2ms/step - loss: 83.4322 - mean_absolute_error: 5.9013 - val_loss: 72.3950 - val_mean_absolute_error: 5.4974\n",
      "Epoch 10/10\n",
      "55/55 [==============================] - 0s 2ms/step - loss: 85.0704 - mean_absolute_error: 5.9998 - val_loss: 68.3582 - val_mean_absolute_error: 5.3131\n"
     ]
    },
    {
     "data": {
      "text/plain": [
       "<keras.callbacks.History at 0x7fc4c1e7dd50>"
      ]
     },
     "execution_count": 27,
     "metadata": {},
     "output_type": "execute_result"
    }
   ],
   "source": [
    "model.fit(X_train,y_train,validation_data=(X_test,y_test),epochs=10)"
   ]
  },
  {
   "cell_type": "code",
   "execution_count": 28,
   "metadata": {},
   "outputs": [],
   "source": [
    "y_pred_test=model.predict(X_test)"
   ]
  },
  {
   "cell_type": "markdown",
   "metadata": {},
   "source": [
    "### Evaluate predictions"
   ]
  },
  {
   "cell_type": "code",
   "execution_count": 33,
   "metadata": {},
   "outputs": [],
   "source": [
    "from sklearn.metrics import mean_absolute_error"
   ]
  },
  {
   "cell_type": "code",
   "execution_count": 29,
   "metadata": {},
   "outputs": [],
   "source": [
    "y_pred=model.predict(X)"
   ]
  },
  {
   "cell_type": "code",
   "execution_count": 30,
   "metadata": {},
   "outputs": [
    {
     "data": {
      "text/plain": [
       "array([ 20.219999,  21.      ,  21.290001, ..., 288.959991, 289.959991,\n",
       "       275.429993])"
      ]
     },
     "execution_count": 30,
     "metadata": {},
     "output_type": "execute_result"
    }
   ],
   "source": [
    "y.values #3 True values"
   ]
  },
  {
   "cell_type": "code",
   "execution_count": 31,
   "metadata": {},
   "outputs": [
    {
     "data": {
      "text/plain": [
       "array([[ 19.840586],\n",
       "       [ 20.197826],\n",
       "       [ 20.693712],\n",
       "       ...,\n",
       "       [288.73636 ],\n",
       "       [288.08487 ],\n",
       "       [286.2895  ]], dtype=float32)"
      ]
     },
     "execution_count": 31,
     "metadata": {},
     "output_type": "execute_result"
    }
   ],
   "source": [
    "y_pred ## Predictions"
   ]
  },
  {
   "cell_type": "code",
   "execution_count": 101,
   "metadata": {},
   "outputs": [],
   "source": [
    "y_pred_test=model.predict(X_test)"
   ]
  },
  {
   "cell_type": "code",
   "execution_count": 35,
   "metadata": {},
   "outputs": [
    {
     "name": "stdout",
     "output_type": "stream",
     "text": [
      "MAE:  5.510572051768854\n"
     ]
    }
   ],
   "source": [
    "print('MAE: ',mean_absolute_error(y,y_pred))"
   ]
  },
  {
   "cell_type": "code",
   "execution_count": 102,
   "metadata": {},
   "outputs": [
    {
     "name": "stdout",
     "output_type": "stream",
     "text": [
      "Test MAE:  5.313058140899098\n"
     ]
    }
   ],
   "source": [
    "print('Test MAE: ',mean_absolute_error(y_test,y_pred_test))"
   ]
  },
  {
   "cell_type": "code",
   "execution_count": 36,
   "metadata": {},
   "outputs": [
    {
     "data": {
      "text/plain": [
       "Text(0, 0.5, 'Close')"
      ]
     },
     "execution_count": 36,
     "metadata": {},
     "output_type": "execute_result"
    },
    {
     "data": {
      "image/png": "[encoded data removed]",
      "text/plain": [
       "<Figure size 1440x720 with 1 Axes>"
      ]
     },
     "metadata": {
      "needs_background": "light"
     },
     "output_type": "display_data"
    }
   ],
   "source": [
    "import matplotlib.pyplot as plt\n",
    "\n",
    "plt.figure(figsize=(20,10))\n",
    "plt.plot(y,label='True Values')\n",
    "plt.plot(y_pred,label='Predicted Values')\n",
    "plt.legend()\n",
    "plt.xlabel('samples')\n",
    "plt.ylabel('Close')"
   ]
  },
  {
   "cell_type": "code",
   "execution_count": null,
   "metadata": {},
   "outputs": [],
   "source": [
    "#matrix evaluation of distance (absolute mean square error)"
   ]
  },
  {
   "cell_type": "code",
   "execution_count": 39,
   "metadata": {},
   "outputs": [
    {
     "data": {
      "text/plain": [
       "array([ 20.219999,  21.      ,  21.290001, ..., 288.959991, 289.959991,\n",
       "       275.429993])"
      ]
     },
     "execution_count": 39,
     "metadata": {},
     "output_type": "execute_result"
    }
   ],
   "source": [
    "y.values"
   ]
  },
  {
   "cell_type": "code",
   "execution_count": 78,
   "metadata": {},
   "outputs": [
    {
     "data": {
      "text/html": [
       "<div>\n",
       "<style scoped>\n",
       "    .dataframe tbody tr th:only-of-type {\n",
       "        vertical-align: middle;\n",
       "    }\n",
       "\n",
       "    .dataframe tbody tr th {\n",
       "        vertical-align: top;\n",
       "    }\n",
       "\n",
       "    .dataframe thead th {\n",
       "        text-align: right;\n",
       "    }\n",
       "</style>\n",
       "<table border=\"1\" class=\"dataframe\">\n",
       "  <thead>\n",
       "    <tr style=\"text-align: right;\">\n",
       "      <th></th>\n",
       "      <th>true_val</th>\n",
       "      <th>true_val_group</th>\n",
       "    </tr>\n",
       "  </thead>\n",
       "  <tbody>\n",
       "    <tr>\n",
       "      <th>0</th>\n",
       "      <td>20.219999</td>\n",
       "      <td>(17.599, 26.924]</td>\n",
       "    </tr>\n",
       "    <tr>\n",
       "      <th>1</th>\n",
       "      <td>21.000000</td>\n",
       "      <td>(17.599, 26.924]</td>\n",
       "    </tr>\n",
       "    <tr>\n",
       "      <th>2</th>\n",
       "      <td>21.290001</td>\n",
       "      <td>(17.599, 26.924]</td>\n",
       "    </tr>\n",
       "    <tr>\n",
       "      <th>3</th>\n",
       "      <td>20.950001</td>\n",
       "      <td>(17.599, 26.924]</td>\n",
       "    </tr>\n",
       "    <tr>\n",
       "      <th>4</th>\n",
       "      <td>20.549999</td>\n",
       "      <td>(17.599, 26.924]</td>\n",
       "    </tr>\n",
       "    <tr>\n",
       "      <th>...</th>\n",
       "      <td>...</td>\n",
       "      <td>...</td>\n",
       "    </tr>\n",
       "    <tr>\n",
       "      <th>2173</th>\n",
       "      <td>290.920013</td>\n",
       "      <td>(289.58, 327.114]</td>\n",
       "    </tr>\n",
       "    <tr>\n",
       "      <th>2174</th>\n",
       "      <td>283.359985</td>\n",
       "      <td>(249.873, 289.58]</td>\n",
       "    </tr>\n",
       "    <tr>\n",
       "      <th>2175</th>\n",
       "      <td>288.959991</td>\n",
       "      <td>(249.873, 289.58]</td>\n",
       "    </tr>\n",
       "    <tr>\n",
       "      <th>2176</th>\n",
       "      <td>289.959991</td>\n",
       "      <td>(289.58, 327.114]</td>\n",
       "    </tr>\n",
       "    <tr>\n",
       "      <th>2177</th>\n",
       "      <td>275.429993</td>\n",
       "      <td>(249.873, 289.58]</td>\n",
       "    </tr>\n",
       "  </tbody>\n",
       "</table>\n",
       "<p>2178 rows × 2 columns</p>\n",
       "</div>"
      ],
      "text/plain": [
       "        true_val     true_val_group\n",
       "0      20.219999   (17.599, 26.924]\n",
       "1      21.000000   (17.599, 26.924]\n",
       "2      21.290001   (17.599, 26.924]\n",
       "3      20.950001   (17.599, 26.924]\n",
       "4      20.549999   (17.599, 26.924]\n",
       "...          ...                ...\n",
       "2173  290.920013  (289.58, 327.114]\n",
       "2174  283.359985  (249.873, 289.58]\n",
       "2175  288.959991  (249.873, 289.58]\n",
       "2176  289.959991  (289.58, 327.114]\n",
       "2177  275.429993  (249.873, 289.58]\n",
       "\n",
       "[2178 rows x 2 columns]"
      ]
     },
     "execution_count": 78,
     "metadata": {},
     "output_type": "execute_result"
    }
   ],
   "source": [
    "output=pd.DataFrame({'true_val':y}) ## creates a dataframe\n",
    "output['true_val_group']=pd.qcut(output['true_val'],10)\n",
    "output"
   ]
  },
  {
   "cell_type": "code",
   "execution_count": 74,
   "metadata": {},
   "outputs": [
    {
     "data": {
      "text/plain": [
       "[(17.599, 26.924], (26.924, 30.758], (30.758, 37.851], (37.851, 173.446], (173.446, 205.605], (205.605, 225.002], (225.002, 249.873], (249.873, 289.58], (289.58, 327.114], (327.114, 385.0]]\n",
       "Categories (10, interval[float64]): [(17.599, 26.924] < (26.924, 30.758] < (30.758, 37.851] < (37.851, 173.446] ... (225.002, 249.873] < (249.873, 289.58] < (289.58, 327.114] < (327.114, 385.0]]"
      ]
     },
     "execution_count": 74,
     "metadata": {},
     "output_type": "execute_result"
    }
   ],
   "source": [
    "output.true_val_group.unique()"
   ]
  },
  {
   "cell_type": "code",
   "execution_count": 86,
   "metadata": {},
   "outputs": [],
   "source": [
    "output_pred=pd.DataFrame({'pred_val':y_pred.ravel()})\n",
    "output_pred['pred_val_group']=pd.qcut(output['true_val'],10)\n"
   ]
  },
  {
   "cell_type": "code",
   "execution_count": 87,
   "metadata": {},
   "outputs": [],
   "source": [
    "output_true=output.groupby('true_val_group').agg({'true_val':'mean'}).reset_index()"
   ]
  },
  {
   "cell_type": "code",
   "execution_count": 88,
   "metadata": {},
   "outputs": [],
   "source": [
    "output_pred=output_pred.groupby('pred_val_group').agg({'pred_val':'mean'}).reset_index()"
   ]
  },
  {
   "cell_type": "code",
   "execution_count": 89,
   "metadata": {},
   "outputs": [
    {
     "data": {
      "text/html": [
       "<div>\n",
       "<style scoped>\n",
       "    .dataframe tbody tr th:only-of-type {\n",
       "        vertical-align: middle;\n",
       "    }\n",
       "\n",
       "    .dataframe tbody tr th {\n",
       "        vertical-align: top;\n",
       "    }\n",
       "\n",
       "    .dataframe thead th {\n",
       "        text-align: right;\n",
       "    }\n",
       "</style>\n",
       "<table border=\"1\" class=\"dataframe\">\n",
       "  <thead>\n",
       "    <tr style=\"text-align: right;\">\n",
       "      <th></th>\n",
       "      <th>pred_val_group</th>\n",
       "      <th>pred_val</th>\n",
       "    </tr>\n",
       "  </thead>\n",
       "  <tbody>\n",
       "    <tr>\n",
       "      <th>0</th>\n",
       "      <td>(17.599, 26.924]</td>\n",
       "      <td>23.641539</td>\n",
       "    </tr>\n",
       "    <tr>\n",
       "      <th>1</th>\n",
       "      <td>(26.924, 30.758]</td>\n",
       "      <td>28.856203</td>\n",
       "    </tr>\n",
       "    <tr>\n",
       "      <th>2</th>\n",
       "      <td>(30.758, 37.851]</td>\n",
       "      <td>33.514984</td>\n",
       "    </tr>\n",
       "    <tr>\n",
       "      <th>3</th>\n",
       "      <td>(37.851, 173.446]</td>\n",
       "      <td>113.706108</td>\n",
       "    </tr>\n",
       "    <tr>\n",
       "      <th>4</th>\n",
       "      <td>(173.446, 205.605]</td>\n",
       "      <td>195.209579</td>\n",
       "    </tr>\n",
       "    <tr>\n",
       "      <th>5</th>\n",
       "      <td>(205.605, 225.002]</td>\n",
       "      <td>217.081528</td>\n",
       "    </tr>\n",
       "    <tr>\n",
       "      <th>6</th>\n",
       "      <td>(225.002, 249.873]</td>\n",
       "      <td>236.904251</td>\n",
       "    </tr>\n",
       "    <tr>\n",
       "      <th>7</th>\n",
       "      <td>(249.873, 289.58]</td>\n",
       "      <td>266.413086</td>\n",
       "    </tr>\n",
       "    <tr>\n",
       "      <th>8</th>\n",
       "      <td>(289.58, 327.114]</td>\n",
       "      <td>312.133667</td>\n",
       "    </tr>\n",
       "    <tr>\n",
       "      <th>9</th>\n",
       "      <td>(327.114, 385.0]</td>\n",
       "      <td>346.070160</td>\n",
       "    </tr>\n",
       "  </tbody>\n",
       "</table>\n",
       "</div>"
      ],
      "text/plain": [
       "       pred_val_group    pred_val\n",
       "0    (17.599, 26.924]   23.641539\n",
       "1    (26.924, 30.758]   28.856203\n",
       "2    (30.758, 37.851]   33.514984\n",
       "3   (37.851, 173.446]  113.706108\n",
       "4  (173.446, 205.605]  195.209579\n",
       "5  (205.605, 225.002]  217.081528\n",
       "6  (225.002, 249.873]  236.904251\n",
       "7   (249.873, 289.58]  266.413086\n",
       "8   (289.58, 327.114]  312.133667\n",
       "9    (327.114, 385.0]  346.070160"
      ]
     },
     "execution_count": 89,
     "metadata": {},
     "output_type": "execute_result"
    }
   ],
   "source": [
    "output_pred"
   ]
  },
  {
   "cell_type": "code",
   "execution_count": 90,
   "metadata": {},
   "outputs": [
    {
     "data": {
      "text/html": [
       "<div>\n",
       "<style scoped>\n",
       "    .dataframe tbody tr th:only-of-type {\n",
       "        vertical-align: middle;\n",
       "    }\n",
       "\n",
       "    .dataframe tbody tr th {\n",
       "        vertical-align: top;\n",
       "    }\n",
       "\n",
       "    .dataframe thead th {\n",
       "        text-align: right;\n",
       "    }\n",
       "</style>\n",
       "<table border=\"1\" class=\"dataframe\">\n",
       "  <thead>\n",
       "    <tr style=\"text-align: right;\">\n",
       "      <th></th>\n",
       "      <th>true_val_group</th>\n",
       "      <th>true_val</th>\n",
       "    </tr>\n",
       "  </thead>\n",
       "  <tbody>\n",
       "    <tr>\n",
       "      <th>0</th>\n",
       "      <td>(17.599, 26.924]</td>\n",
       "      <td>23.208624</td>\n",
       "    </tr>\n",
       "    <tr>\n",
       "      <th>1</th>\n",
       "      <td>(26.924, 30.758]</td>\n",
       "      <td>28.587982</td>\n",
       "    </tr>\n",
       "    <tr>\n",
       "      <th>2</th>\n",
       "      <td>(30.758, 37.851]</td>\n",
       "      <td>33.491651</td>\n",
       "    </tr>\n",
       "    <tr>\n",
       "      <th>3</th>\n",
       "      <td>(37.851, 173.446]</td>\n",
       "      <td>114.016543</td>\n",
       "    </tr>\n",
       "    <tr>\n",
       "      <th>4</th>\n",
       "      <td>(173.446, 205.605]</td>\n",
       "      <td>193.718670</td>\n",
       "    </tr>\n",
       "    <tr>\n",
       "      <th>5</th>\n",
       "      <td>(205.605, 225.002]</td>\n",
       "      <td>215.241926</td>\n",
       "    </tr>\n",
       "    <tr>\n",
       "      <th>6</th>\n",
       "      <td>(225.002, 249.873]</td>\n",
       "      <td>236.830092</td>\n",
       "    </tr>\n",
       "    <tr>\n",
       "      <th>7</th>\n",
       "      <td>(249.873, 289.58]</td>\n",
       "      <td>264.826836</td>\n",
       "    </tr>\n",
       "    <tr>\n",
       "      <th>8</th>\n",
       "      <td>(289.58, 327.114]</td>\n",
       "      <td>308.775413</td>\n",
       "    </tr>\n",
       "    <tr>\n",
       "      <th>9</th>\n",
       "      <td>(327.114, 385.0]</td>\n",
       "      <td>348.525689</td>\n",
       "    </tr>\n",
       "  </tbody>\n",
       "</table>\n",
       "</div>"
      ],
      "text/plain": [
       "       true_val_group    true_val\n",
       "0    (17.599, 26.924]   23.208624\n",
       "1    (26.924, 30.758]   28.587982\n",
       "2    (30.758, 37.851]   33.491651\n",
       "3   (37.851, 173.446]  114.016543\n",
       "4  (173.446, 205.605]  193.718670\n",
       "5  (205.605, 225.002]  215.241926\n",
       "6  (225.002, 249.873]  236.830092\n",
       "7   (249.873, 289.58]  264.826836\n",
       "8   (289.58, 327.114]  308.775413\n",
       "9    (327.114, 385.0]  348.525689"
      ]
     },
     "execution_count": 90,
     "metadata": {},
     "output_type": "execute_result"
    }
   ],
   "source": [
    "output_true"
   ]
  },
  {
   "cell_type": "code",
   "execution_count": 91,
   "metadata": {},
   "outputs": [],
   "source": [
    "final_output=pd.merge(output_true,output_pred,left_on='true_val_group',right_on='pred_val_group').drop('pred_val_group',axis=1)\n",
    "final_output['diff_%']=(final_output['pred_val'] - final_output['true_val'])/final_output['true_val']*100"
   ]
  },
  {
   "cell_type": "code",
   "execution_count": 92,
   "metadata": {},
   "outputs": [
    {
     "data": {
      "text/html": [
       "<div>\n",
       "<style scoped>\n",
       "    .dataframe tbody tr th:only-of-type {\n",
       "        vertical-align: middle;\n",
       "    }\n",
       "\n",
       "    .dataframe tbody tr th {\n",
       "        vertical-align: top;\n",
       "    }\n",
       "\n",
       "    .dataframe thead th {\n",
       "        text-align: right;\n",
       "    }\n",
       "</style>\n",
       "<table border=\"1\" class=\"dataframe\">\n",
       "  <thead>\n",
       "    <tr style=\"text-align: right;\">\n",
       "      <th></th>\n",
       "      <th>true_val_group</th>\n",
       "      <th>true_val</th>\n",
       "      <th>pred_val</th>\n",
       "      <th>diff_%</th>\n",
       "    </tr>\n",
       "  </thead>\n",
       "  <tbody>\n",
       "    <tr>\n",
       "      <th>0</th>\n",
       "      <td>(17.599, 26.924]</td>\n",
       "      <td>23.208624</td>\n",
       "      <td>23.641539</td>\n",
       "      <td>1.865318</td>\n",
       "    </tr>\n",
       "    <tr>\n",
       "      <th>1</th>\n",
       "      <td>(26.924, 30.758]</td>\n",
       "      <td>28.587982</td>\n",
       "      <td>28.856203</td>\n",
       "      <td>0.938232</td>\n",
       "    </tr>\n",
       "    <tr>\n",
       "      <th>2</th>\n",
       "      <td>(30.758, 37.851]</td>\n",
       "      <td>33.491651</td>\n",
       "      <td>33.514984</td>\n",
       "      <td>0.069667</td>\n",
       "    </tr>\n",
       "    <tr>\n",
       "      <th>3</th>\n",
       "      <td>(37.851, 173.446]</td>\n",
       "      <td>114.016543</td>\n",
       "      <td>113.706108</td>\n",
       "      <td>-0.272272</td>\n",
       "    </tr>\n",
       "    <tr>\n",
       "      <th>4</th>\n",
       "      <td>(173.446, 205.605]</td>\n",
       "      <td>193.718670</td>\n",
       "      <td>195.209579</td>\n",
       "      <td>0.769626</td>\n",
       "    </tr>\n",
       "    <tr>\n",
       "      <th>5</th>\n",
       "      <td>(205.605, 225.002]</td>\n",
       "      <td>215.241926</td>\n",
       "      <td>217.081528</td>\n",
       "      <td>0.854667</td>\n",
       "    </tr>\n",
       "    <tr>\n",
       "      <th>6</th>\n",
       "      <td>(225.002, 249.873]</td>\n",
       "      <td>236.830092</td>\n",
       "      <td>236.904251</td>\n",
       "      <td>0.031313</td>\n",
       "    </tr>\n",
       "    <tr>\n",
       "      <th>7</th>\n",
       "      <td>(249.873, 289.58]</td>\n",
       "      <td>264.826836</td>\n",
       "      <td>266.413086</td>\n",
       "      <td>0.598976</td>\n",
       "    </tr>\n",
       "    <tr>\n",
       "      <th>8</th>\n",
       "      <td>(289.58, 327.114]</td>\n",
       "      <td>308.775413</td>\n",
       "      <td>312.133667</td>\n",
       "      <td>1.087604</td>\n",
       "    </tr>\n",
       "    <tr>\n",
       "      <th>9</th>\n",
       "      <td>(327.114, 385.0]</td>\n",
       "      <td>348.525689</td>\n",
       "      <td>346.070160</td>\n",
       "      <td>-0.704547</td>\n",
       "    </tr>\n",
       "  </tbody>\n",
       "</table>\n",
       "</div>"
      ],
      "text/plain": [
       "       true_val_group    true_val    pred_val    diff_%\n",
       "0    (17.599, 26.924]   23.208624   23.641539  1.865318\n",
       "1    (26.924, 30.758]   28.587982   28.856203  0.938232\n",
       "2    (30.758, 37.851]   33.491651   33.514984  0.069667\n",
       "3   (37.851, 173.446]  114.016543  113.706108 -0.272272\n",
       "4  (173.446, 205.605]  193.718670  195.209579  0.769626\n",
       "5  (205.605, 225.002]  215.241926  217.081528  0.854667\n",
       "6  (225.002, 249.873]  236.830092  236.904251  0.031313\n",
       "7   (249.873, 289.58]  264.826836  266.413086  0.598976\n",
       "8   (289.58, 327.114]  308.775413  312.133667  1.087604\n",
       "9    (327.114, 385.0]  348.525689  346.070160 -0.704547"
      ]
     },
     "execution_count": 92,
     "metadata": {},
     "output_type": "execute_result"
    }
   ],
   "source": [
    "final_output"
   ]
  },
  {
   "cell_type": "markdown",
   "metadata": {},
   "source": [
    "# Model 2: Linear Regression"
   ]
  },
  {
   "cell_type": "code",
   "execution_count": 95,
   "metadata": {},
   "outputs": [],
   "source": [
    "from sklearn.linear_model import LinearRegression"
   ]
  },
  {
   "cell_type": "code",
   "execution_count": 103,
   "metadata": {},
   "outputs": [
    {
     "data": {
      "text/plain": [
       "LinearRegression()"
      ]
     },
     "execution_count": 103,
     "metadata": {},
     "output_type": "execute_result"
    }
   ],
   "source": [
    "model2=LinearRegression()\n",
    "model2.fit(X_train,y_train)"
   ]
  },
  {
   "cell_type": "code",
   "execution_count": 104,
   "metadata": {},
   "outputs": [],
   "source": [
    "y_pred2=model2.predict(X_test)"
   ]
  },
  {
   "cell_type": "code",
   "execution_count": 105,
   "metadata": {},
   "outputs": [
    {
     "data": {
      "text/plain": [
       "3.315582509790901"
      ]
     },
     "execution_count": 105,
     "metadata": {},
     "output_type": "execute_result"
    }
   ],
   "source": [
    "mean_absolute_error(y_test,y_pred2)"
   ]
  },
  {
   "cell_type": "code",
   "execution_count": null,
   "metadata": {},
   "outputs": [],
   "source": []
  },
  {
   "cell_type": "markdown",
   "metadata": {},
   "source": [
    "# Model 3: Random Forest"
   ]
  },
  {
   "cell_type": "code",
   "execution_count": 107,
   "metadata": {},
   "outputs": [],
   "source": [
    "from sklearn.ensemble import RandomForestRegressor"
   ]
  },
  {
   "cell_type": "code",
   "execution_count": 108,
   "metadata": {},
   "outputs": [
    {
     "data": {
      "text/plain": [
       "RandomForestRegressor()"
      ]
     },
     "execution_count": 108,
     "metadata": {},
     "output_type": "execute_result"
    }
   ],
   "source": [
    "model3=RandomForestRegressor()\n",
    "model3.fit(X_train,y_train)"
   ]
  },
  {
   "cell_type": "code",
   "execution_count": 109,
   "metadata": {},
   "outputs": [],
   "source": [
    "y_pred3=model3.predict(X_test)"
   ]
  },
  {
   "cell_type": "code",
   "execution_count": 110,
   "metadata": {},
   "outputs": [
    {
     "data": {
      "text/plain": [
       "3.6337087317889907"
      ]
     },
     "execution_count": 110,
     "metadata": {},
     "output_type": "execute_result"
    }
   ],
   "source": [
    "mean_absolute_error(y_test,y_pred3)"
   ]
  },
  {
   "cell_type": "markdown",
   "metadata": {},
   "source": [
    "# Model 4: XGBoost"
   ]
  },
  {
   "cell_type": "code",
   "execution_count": 112,
   "metadata": {},
   "outputs": [],
   "source": [
    "from xgboost import XGBRegressor"
   ]
  },
  {
   "cell_type": "code",
   "execution_count": 113,
   "metadata": {},
   "outputs": [
    {
     "data": {
      "text/plain": [
       "XGBRegressor(base_score=0.5, booster='gbtree', colsample_bylevel=1,\n",
       "             colsample_bynode=1, colsample_bytree=1, gamma=0, gpu_id=-1,\n",
       "             importance_type='gain', interaction_constraints='',\n",
       "             learning_rate=0.300000012, max_delta_step=0, max_depth=6,\n",
       "             min_child_weight=1, missing=nan, monotone_constraints='()',\n",
       "             n_estimators=100, n_jobs=8, num_parallel_tree=1, random_state=0,\n",
       "             reg_alpha=0, reg_lambda=1, scale_pos_weight=1, subsample=1,\n",
       "             tree_method='exact', validate_parameters=1, verbosity=None)"
      ]
     },
     "execution_count": 113,
     "metadata": {},
     "output_type": "execute_result"
    }
   ],
   "source": [
    "model4=XGBRegressor()\n",
    "model4.fit(X_train,y_train)"
   ]
  },
  {
   "cell_type": "code",
   "execution_count": 114,
   "metadata": {},
   "outputs": [],
   "source": [
    "y_pred4=model4.predict(X_test)"
   ]
  },
  {
   "cell_type": "code",
   "execution_count": 115,
   "metadata": {},
   "outputs": [
    {
     "data": {
      "text/plain": [
       "4.091311438130511"
      ]
     },
     "execution_count": 115,
     "metadata": {},
     "output_type": "execute_result"
    }
   ],
   "source": [
    "mean_absolute_error(y_test,y_pred4)"
   ]
  },
  {
   "cell_type": "markdown",
   "metadata": {},
   "source": [
    "# Model 5: LSTM"
   ]
  },
  {
   "cell_type": "code",
   "execution_count": 116,
   "metadata": {},
   "outputs": [],
   "source": [
    "data=pd.read_csv('tesla.csv')"
   ]
  },
  {
   "cell_type": "code",
   "execution_count": 117,
   "metadata": {},
   "outputs": [],
   "source": [
    "data=data[['Date','Close']]"
   ]
  },
  {
   "cell_type": "code",
   "execution_count": 118,
   "metadata": {},
   "outputs": [],
   "source": [
    "days=2\n",
    "for ii in range(days+1):\n",
    "    data[f'Close_{ii}']=data['Close'].shift(-ii)"
   ]
  },
  {
   "cell_type": "code",
   "execution_count": 119,
   "metadata": {},
   "outputs": [],
   "source": [
    "data_red=data.iloc[:,2:].dropna()"
   ]
  },
  {
   "cell_type": "code",
   "execution_count": 120,
   "metadata": {},
   "outputs": [],
   "source": [
    "X=data_red.drop('Close_2',axis=1)\n",
    "y=data_red['Close_2']"
   ]
  },
  {
   "cell_type": "code",
   "execution_count": 121,
   "metadata": {},
   "outputs": [
    {
     "data": {
      "text/html": [
       "<div>\n",
       "<style scoped>\n",
       "    .dataframe tbody tr th:only-of-type {\n",
       "        vertical-align: middle;\n",
       "    }\n",
       "\n",
       "    .dataframe tbody tr th {\n",
       "        vertical-align: top;\n",
       "    }\n",
       "\n",
       "    .dataframe thead th {\n",
       "        text-align: right;\n",
       "    }\n",
       "</style>\n",
       "<table border=\"1\" class=\"dataframe\">\n",
       "  <thead>\n",
       "    <tr style=\"text-align: right;\">\n",
       "      <th></th>\n",
       "      <th>Close_0</th>\n",
       "      <th>Close_1</th>\n",
       "    </tr>\n",
       "  </thead>\n",
       "  <tbody>\n",
       "    <tr>\n",
       "      <th>0</th>\n",
       "      <td>23.889999</td>\n",
       "      <td>23.830000</td>\n",
       "    </tr>\n",
       "    <tr>\n",
       "      <th>1</th>\n",
       "      <td>23.830000</td>\n",
       "      <td>21.959999</td>\n",
       "    </tr>\n",
       "    <tr>\n",
       "      <th>2</th>\n",
       "      <td>21.959999</td>\n",
       "      <td>19.200001</td>\n",
       "    </tr>\n",
       "    <tr>\n",
       "      <th>3</th>\n",
       "      <td>19.200001</td>\n",
       "      <td>16.110001</td>\n",
       "    </tr>\n",
       "    <tr>\n",
       "      <th>4</th>\n",
       "      <td>16.110001</td>\n",
       "      <td>15.800000</td>\n",
       "    </tr>\n",
       "    <tr>\n",
       "      <th>...</th>\n",
       "      <td>...</td>\n",
       "      <td>...</td>\n",
       "    </tr>\n",
       "    <tr>\n",
       "      <th>2186</th>\n",
       "      <td>276.589996</td>\n",
       "      <td>284.140015</td>\n",
       "    </tr>\n",
       "    <tr>\n",
       "      <th>2187</th>\n",
       "      <td>284.140015</td>\n",
       "      <td>290.920013</td>\n",
       "    </tr>\n",
       "    <tr>\n",
       "      <th>2188</th>\n",
       "      <td>290.920013</td>\n",
       "      <td>283.359985</td>\n",
       "    </tr>\n",
       "    <tr>\n",
       "      <th>2189</th>\n",
       "      <td>283.359985</td>\n",
       "      <td>288.959991</td>\n",
       "    </tr>\n",
       "    <tr>\n",
       "      <th>2190</th>\n",
       "      <td>288.959991</td>\n",
       "      <td>289.959991</td>\n",
       "    </tr>\n",
       "  </tbody>\n",
       "</table>\n",
       "<p>2191 rows × 2 columns</p>\n",
       "</div>"
      ],
      "text/plain": [
       "         Close_0     Close_1\n",
       "0      23.889999   23.830000\n",
       "1      23.830000   21.959999\n",
       "2      21.959999   19.200001\n",
       "3      19.200001   16.110001\n",
       "4      16.110001   15.800000\n",
       "...          ...         ...\n",
       "2186  276.589996  284.140015\n",
       "2187  284.140015  290.920013\n",
       "2188  290.920013  283.359985\n",
       "2189  283.359985  288.959991\n",
       "2190  288.959991  289.959991\n",
       "\n",
       "[2191 rows x 2 columns]"
      ]
     },
     "execution_count": 121,
     "metadata": {},
     "output_type": "execute_result"
    }
   ],
   "source": [
    "X"
   ]
  },
  {
   "cell_type": "code",
   "execution_count": 122,
   "metadata": {},
   "outputs": [
    {
     "data": {
      "text/plain": [
       "0        21.959999\n",
       "1        19.200001\n",
       "2        16.110001\n",
       "3        15.800000\n",
       "4        17.459999\n",
       "           ...    \n",
       "2186    290.920013\n",
       "2187    283.359985\n",
       "2188    288.959991\n",
       "2189    289.959991\n",
       "2190    275.429993\n",
       "Name: Close_2, Length: 2191, dtype: float64"
      ]
     },
     "execution_count": 122,
     "metadata": {},
     "output_type": "execute_result"
    }
   ],
   "source": [
    "y"
   ]
  },
  {
   "cell_type": "markdown",
   "metadata": {},
   "source": [
    "## Prepare for Training"
   ]
  },
  {
   "cell_type": "code",
   "execution_count": 123,
   "metadata": {},
   "outputs": [],
   "source": [
    "train_index=int(X.shape[0]*0.8)"
   ]
  },
  {
   "cell_type": "code",
   "execution_count": 124,
   "metadata": {},
   "outputs": [],
   "source": [
    "X_train,X_test=X.iloc[:train_index,:] , X.iloc[train_index:,:]\n",
    "y_train,y_test=y.iloc[:train_index] , y.iloc[train_index:]"
   ]
  },
  {
   "cell_type": "code",
   "execution_count": 125,
   "metadata": {},
   "outputs": [
    {
     "data": {
      "text/plain": [
       "(1752, 2)"
      ]
     },
     "execution_count": 125,
     "metadata": {},
     "output_type": "execute_result"
    }
   ],
   "source": [
    "X_train.shape"
   ]
  },
  {
   "cell_type": "code",
   "execution_count": 126,
   "metadata": {},
   "outputs": [],
   "source": [
    "import numpy as np\n",
    "X_train=np.expand_dims(X_train.values,1)\n",
    "X_test=np.expand_dims(X_test.values,1)"
   ]
  },
  {
   "cell_type": "code",
   "execution_count": 127,
   "metadata": {},
   "outputs": [
    {
     "data": {
      "text/plain": [
       "(1752, 1, 2)"
      ]
     },
     "execution_count": 127,
     "metadata": {},
     "output_type": "execute_result"
    }
   ],
   "source": [
    "X_train.shape"
   ]
  },
  {
   "cell_type": "code",
   "execution_count": 128,
   "metadata": {},
   "outputs": [],
   "source": [
    "model=Sequential()\n",
    "model.add(LSTM(128,input_shape=(1,2),activation='relu'))\n",
    "model.add(Dense(64,activation='relu'))\n",
    "model.add(Dense(32,activation='relu'))\n",
    "model.add(Dense(1))"
   ]
  },
  {
   "cell_type": "code",
   "execution_count": 129,
   "metadata": {},
   "outputs": [
    {
     "name": "stdout",
     "output_type": "stream",
     "text": [
      "Model: \"sequential_1\"\n",
      "_________________________________________________________________\n",
      " Layer (type)                Output Shape              Param #   \n",
      "=================================================================\n",
      " lstm (LSTM)                 (None, 128)               67072     \n",
      "                                                                 \n",
      " dense_4 (Dense)             (None, 64)                8256      \n",
      "                                                                 \n",
      " dense_5 (Dense)             (None, 32)                2080      \n",
      "                                                                 \n",
      " dense_6 (Dense)             (None, 1)                 33        \n",
      "                                                                 \n",
      "=================================================================\n",
      "Total params: 77,441\n",
      "Trainable params: 77,441\n",
      "Non-trainable params: 0\n",
      "_________________________________________________________________\n"
     ]
    }
   ],
   "source": [
    "model.summary()"
   ]
  },
  {
   "cell_type": "code",
   "execution_count": 130,
   "metadata": {},
   "outputs": [],
   "source": [
    "model.compile(optimizer='adam',loss='mean_squared_error',metrics=['mean_absolute_error'])"
   ]
  },
  {
   "cell_type": "code",
   "execution_count": 131,
   "metadata": {},
   "outputs": [
    {
     "name": "stdout",
     "output_type": "stream",
     "text": [
      "Epoch 1/10\n",
      "55/55 [==============================] - 1s 6ms/step - loss: 17483.6738 - mean_absolute_error: 99.0743 - val_loss: 2818.2864 - val_mean_absolute_error: 51.5153\n",
      "Epoch 2/10\n",
      "55/55 [==============================] - 0s 3ms/step - loss: 152.5174 - mean_absolute_error: 7.3921 - val_loss: 129.2327 - val_mean_absolute_error: 8.5848\n",
      "Epoch 3/10\n",
      "55/55 [==============================] - 0s 3ms/step - loss: 27.8099 - mean_absolute_error: 3.3558 - val_loss: 124.7058 - val_mean_absolute_error: 8.2760\n",
      "Epoch 4/10\n",
      "55/55 [==============================] - 0s 3ms/step - loss: 25.5757 - mean_absolute_error: 3.1452 - val_loss: 107.1924 - val_mean_absolute_error: 7.5714\n",
      "Epoch 5/10\n",
      "55/55 [==============================] - 0s 3ms/step - loss: 23.9073 - mean_absolute_error: 3.0432 - val_loss: 102.8036 - val_mean_absolute_error: 7.2889\n",
      "Epoch 6/10\n",
      "55/55 [==============================] - 0s 3ms/step - loss: 23.0025 - mean_absolute_error: 2.9949 - val_loss: 102.1688 - val_mean_absolute_error: 7.2862\n",
      "Epoch 7/10\n",
      "55/55 [==============================] - 0s 3ms/step - loss: 23.0675 - mean_absolute_error: 3.0090 - val_loss: 173.1976 - val_mean_absolute_error: 10.4990\n",
      "Epoch 8/10\n",
      "55/55 [==============================] - 0s 3ms/step - loss: 26.3260 - mean_absolute_error: 3.2435 - val_loss: 101.3645 - val_mean_absolute_error: 7.1840\n",
      "Epoch 9/10\n",
      "55/55 [==============================] - 0s 3ms/step - loss: 22.7353 - mean_absolute_error: 2.9496 - val_loss: 100.6286 - val_mean_absolute_error: 7.1582\n",
      "Epoch 10/10\n",
      "55/55 [==============================] - 0s 3ms/step - loss: 22.7489 - mean_absolute_error: 3.0200 - val_loss: 105.2649 - val_mean_absolute_error: 7.4570\n"
     ]
    },
    {
     "data": {
      "text/plain": [
       "<keras.callbacks.History at 0x7fc4c4c76ad0>"
      ]
     },
     "execution_count": 131,
     "metadata": {},
     "output_type": "execute_result"
    }
   ],
   "source": [
    "model.fit(X_train,y_train,validation_data=(X_test,y_test),epochs=10)"
   ]
  },
  {
   "cell_type": "code",
   "execution_count": 132,
   "metadata": {},
   "outputs": [],
   "source": [
    "y_test_pred=model.predict(X_test).ravel()"
   ]
  },
  {
   "cell_type": "markdown",
   "metadata": {},
   "source": [
    "### Evaluate predictions"
   ]
  },
  {
   "cell_type": "code",
   "execution_count": 133,
   "metadata": {},
   "outputs": [],
   "source": [
    "X_new=np.expand_dims(X.values,1)"
   ]
  },
  {
   "cell_type": "code",
   "execution_count": 134,
   "metadata": {},
   "outputs": [],
   "source": [
    "y_pred=model.predict(X_new)"
   ]
  },
  {
   "cell_type": "code",
   "execution_count": 135,
   "metadata": {},
   "outputs": [
    {
     "data": {
      "text/plain": [
       "array([ 21.959999,  19.200001,  16.110001, ..., 288.959991, 289.959991,\n",
       "       275.429993])"
      ]
     },
     "execution_count": 135,
     "metadata": {},
     "output_type": "execute_result"
    }
   ],
   "source": [
    "y.values #3 True values"
   ]
  },
  {
   "cell_type": "code",
   "execution_count": 136,
   "metadata": {},
   "outputs": [
    {
     "data": {
      "text/plain": [
       "array([[ 24.133358],\n",
       "       [ 22.846922],\n",
       "       [ 20.271515],\n",
       "       ...,\n",
       "       [281.76205 ],\n",
       "       [286.72842 ],\n",
       "       [287.77448 ]], dtype=float32)"
      ]
     },
     "execution_count": 136,
     "metadata": {},
     "output_type": "execute_result"
    }
   ],
   "source": [
    "y_pred ## Predictions"
   ]
  },
  {
   "cell_type": "code",
   "execution_count": 137,
   "metadata": {},
   "outputs": [
    {
     "data": {
      "text/plain": [
       "Text(0, 0.5, 'Close')"
      ]
     },
     "execution_count": 137,
     "metadata": {},
     "output_type": "execute_result"
    },
    {
     "data": {
      "image/png": "[encoded data removed]",
      "text/plain": [
       "<Figure size 1440x720 with 1 Axes>"
      ]
     },
     "metadata": {
      "needs_background": "light"
     },
     "output_type": "display_data"
    }
   ],
   "source": [
    "## this plot is for the whole dataset\n",
    "import matplotlib.pyplot as plt\n",
    "\n",
    "plt.figure(figsize=(20,10))\n",
    "plt.plot(y,label='True Values')\n",
    "plt.plot(y_pred,label='Predicted Values')\n",
    "plt.legend()\n",
    "plt.xlabel('samples')\n",
    "plt.ylabel('Close')"
   ]
  },
  {
   "cell_type": "code",
   "execution_count": 138,
   "metadata": {},
   "outputs": [],
   "source": [
    "y_pred_test=model.predict(X_test).ravel()"
   ]
  },
  {
   "cell_type": "code",
   "execution_count": 140,
   "metadata": {},
   "outputs": [
    {
     "data": {
      "text/plain": [
       "7.457008734681982"
      ]
     },
     "execution_count": 140,
     "metadata": {},
     "output_type": "execute_result"
    }
   ],
   "source": [
    "mean_absolute_error(y_test,y_pred_test)"
   ]
  },
  {
   "cell_type": "code",
   "execution_count": 139,
   "metadata": {},
   "outputs": [
    {
     "data": {
      "text/plain": [
       "Text(0, 0.5, 'Close')"
      ]
     },
     "execution_count": 139,
     "metadata": {},
     "output_type": "execute_result"
    },
    {
     "data": {
      "image/png": "[encoded data removed]",
      "text/plain": [
       "<Figure size 1440x720 with 1 Axes>"
      ]
     },
     "metadata": {
      "needs_background": "light"
     },
     "output_type": "display_data"
    }
   ],
   "source": [
    "## this plot is for the whole dataset\n",
    "import matplotlib.pyplot as plt\n",
    "\n",
    "plt.figure(figsize=(20,10))\n",
    "plt.title('Test set')\n",
    "plt.plot(y_test.values,label='True Values')\n",
    "plt.plot(y_pred_test,label='Predicted Values')\n",
    "plt.legend()\n",
    "plt.xlabel('samples')\n",
    "plt.ylabel('Close')"
   ]
  },
  {
   "cell_type": "markdown",
   "metadata": {},
   "source": [
    "# Model 6: CNN"
   ]
  },
  {
   "cell_type": "code",
   "execution_count": 154,
   "metadata": {},
   "outputs": [
    {
     "data": {
      "text/plain": [
       "(1752, 1, 2)"
      ]
     },
     "execution_count": 154,
     "metadata": {},
     "output_type": "execute_result"
    }
   ],
   "source": [
    "X_train.shape"
   ]
  },
  {
   "cell_type": "code",
   "execution_count": 165,
   "metadata": {},
   "outputs": [],
   "source": [
    "X_train_new=np.transpose(X_train,(0,2,1))\n",
    "X_test_new=np.transpose(X_test,(0,2,1))"
   ]
  },
  {
   "cell_type": "code",
   "execution_count": 180,
   "metadata": {},
   "outputs": [],
   "source": [
    "from tensorflow.keras.layers import Flatten"
   ]
  },
  {
   "cell_type": "code",
   "execution_count": 206,
   "metadata": {},
   "outputs": [],
   "source": [
    "model6=Sequential()\n",
    "model6.add(Conv1D(32, (2), activation='relu' , input_shape=( 2,1)))\n",
    "model6.add(LSTM(128,activation='relu'))\n",
    "model6.add(Dense(64,activation='relu'))\n",
    "model6.add(Dense(32,activation='relu'))\n",
    "model6.add(Dense(1))"
   ]
  },
  {
   "cell_type": "code",
   "execution_count": 200,
   "metadata": {},
   "outputs": [
    {
     "name": "stdout",
     "output_type": "stream",
     "text": [
      "Model: \"sequential_32\"\n",
      "_________________________________________________________________\n",
      " Layer (type)                Output Shape              Param #   \n",
      "=================================================================\n",
      " conv1d_28 (Conv1D)          (None, 1, 32)             96        \n",
      "                                                                 \n",
      " lstm_11 (LSTM)              (None, 128)               82432     \n",
      "                                                                 \n",
      " dense_44 (Dense)            (None, 64)                8256      \n",
      "                                                                 \n",
      " dense_45 (Dense)            (None, 32)                2080      \n",
      "                                                                 \n",
      " dense_46 (Dense)            (None, 1)                 33        \n",
      "                                                                 \n",
      "=================================================================\n",
      "Total params: 92,897\n",
      "Trainable params: 92,897\n",
      "Non-trainable params: 0\n",
      "_________________________________________________________________\n"
     ]
    }
   ],
   "source": [
    "model6.summary()"
   ]
  },
  {
   "cell_type": "code",
   "execution_count": 201,
   "metadata": {},
   "outputs": [],
   "source": [
    "model6.compile(optimizer='adam',loss='mean_squared_error',metrics=['mean_absolute_error'])"
   ]
  },
  {
   "cell_type": "code",
   "execution_count": 202,
   "metadata": {},
   "outputs": [
    {
     "name": "stdout",
     "output_type": "stream",
     "text": [
      "Epoch 1/10\n",
      "55/55 [==============================] - 2s 8ms/step - loss: 8362.6797 - mean_absolute_error: 55.6871 - val_loss: 145.7802 - val_mean_absolute_error: 9.5177\n",
      "Epoch 2/10\n",
      "55/55 [==============================] - 0s 3ms/step - loss: 35.6770 - mean_absolute_error: 3.9120 - val_loss: 112.0386 - val_mean_absolute_error: 7.8154\n",
      "Epoch 3/10\n",
      "55/55 [==============================] - 0s 3ms/step - loss: 23.9230 - mean_absolute_error: 3.0674 - val_loss: 111.5096 - val_mean_absolute_error: 7.7728\n",
      "Epoch 4/10\n",
      "55/55 [==============================] - 0s 3ms/step - loss: 23.8936 - mean_absolute_error: 3.0333 - val_loss: 114.3786 - val_mean_absolute_error: 7.6815\n",
      "Epoch 5/10\n",
      "55/55 [==============================] - 0s 3ms/step - loss: 24.2267 - mean_absolute_error: 3.0666 - val_loss: 110.8067 - val_mean_absolute_error: 7.6336\n",
      "Epoch 6/10\n",
      "55/55 [==============================] - 0s 3ms/step - loss: 23.6666 - mean_absolute_error: 3.0365 - val_loss: 118.8438 - val_mean_absolute_error: 7.8418\n",
      "Epoch 7/10\n",
      "55/55 [==============================] - 0s 3ms/step - loss: 24.1484 - mean_absolute_error: 3.0595 - val_loss: 112.3914 - val_mean_absolute_error: 7.6169\n",
      "Epoch 8/10\n",
      "55/55 [==============================] - 0s 4ms/step - loss: 23.8315 - mean_absolute_error: 3.0288 - val_loss: 113.7936 - val_mean_absolute_error: 7.6513\n",
      "Epoch 9/10\n",
      "55/55 [==============================] - 0s 3ms/step - loss: 25.0606 - mean_absolute_error: 3.1064 - val_loss: 110.7668 - val_mean_absolute_error: 7.7432\n",
      "Epoch 10/10\n",
      "55/55 [==============================] - 0s 3ms/step - loss: 24.1369 - mean_absolute_error: 3.0578 - val_loss: 113.7755 - val_mean_absolute_error: 7.6446\n"
     ]
    },
    {
     "data": {
      "text/plain": [
       "<keras.callbacks.History at 0x7fc4c937e590>"
      ]
     },
     "execution_count": 202,
     "metadata": {},
     "output_type": "execute_result"
    }
   ],
   "source": [
    "model6.fit(X_train_new,y_train,validation_data=(X_test_new,y_test),epochs=10)"
   ]
  },
  {
   "cell_type": "code",
   "execution_count": 204,
   "metadata": {},
   "outputs": [],
   "source": [
    "y_pred_test6=model6.predict(X_test_new).ravel()"
   ]
  },
  {
   "cell_type": "code",
   "execution_count": 205,
   "metadata": {},
   "outputs": [
    {
     "data": {
      "text/plain": [
       "7.644577730217379"
      ]
     },
     "execution_count": 205,
     "metadata": {},
     "output_type": "execute_result"
    }
   ],
   "source": [
    "mean_absolute_error(y_test,y_pred_test6)"
   ]
  },
  {
   "cell_type": "code",
   "execution_count": null,
   "metadata": {},
   "outputs": [],
   "source": []
  },
  {
   "cell_type": "markdown",
   "metadata": {},
   "source": [
    "## Section 2"
   ]
  },
  {
   "cell_type": "code",
   "execution_count": 8,
   "metadata": {},
   "outputs": [],
   "source": [
    "data2=pd.read_csv('tesla.csv')"
   ]
  },
  {
   "cell_type": "code",
   "execution_count": 9,
   "metadata": {},
   "outputs": [],
   "source": [
    "## multicolinearity: several features (columns) are highly correlated --> this can hurt the training"
   ]
  },
  {
   "cell_type": "code",
   "execution_count": 10,
   "metadata": {},
   "outputs": [
    {
     "data": {
      "text/html": [
       "<div>\n",
       "<style scoped>\n",
       "    .dataframe tbody tr th:only-of-type {\n",
       "        vertical-align: middle;\n",
       "    }\n",
       "\n",
       "    .dataframe tbody tr th {\n",
       "        vertical-align: top;\n",
       "    }\n",
       "\n",
       "    .dataframe thead th {\n",
       "        text-align: right;\n",
       "    }\n",
       "</style>\n",
       "<table border=\"1\" class=\"dataframe\">\n",
       "  <thead>\n",
       "    <tr style=\"text-align: right;\">\n",
       "      <th></th>\n",
       "      <th>Date</th>\n",
       "      <th>Open</th>\n",
       "      <th>High</th>\n",
       "      <th>Low</th>\n",
       "      <th>Close</th>\n",
       "      <th>Adj Close</th>\n",
       "      <th>Volume</th>\n",
       "    </tr>\n",
       "  </thead>\n",
       "  <tbody>\n",
       "    <tr>\n",
       "      <th>0</th>\n",
       "      <td>29-06-2010</td>\n",
       "      <td>19.000000</td>\n",
       "      <td>25.000000</td>\n",
       "      <td>17.540001</td>\n",
       "      <td>23.889999</td>\n",
       "      <td>23.889999</td>\n",
       "      <td>18766300</td>\n",
       "    </tr>\n",
       "    <tr>\n",
       "      <th>1</th>\n",
       "      <td>30-06-2010</td>\n",
       "      <td>25.790001</td>\n",
       "      <td>30.420000</td>\n",
       "      <td>23.299999</td>\n",
       "      <td>23.830000</td>\n",
       "      <td>23.830000</td>\n",
       "      <td>17187100</td>\n",
       "    </tr>\n",
       "    <tr>\n",
       "      <th>2</th>\n",
       "      <td>01-07-2010</td>\n",
       "      <td>25.000000</td>\n",
       "      <td>25.920000</td>\n",
       "      <td>20.270000</td>\n",
       "      <td>21.959999</td>\n",
       "      <td>21.959999</td>\n",
       "      <td>8218800</td>\n",
       "    </tr>\n",
       "    <tr>\n",
       "      <th>3</th>\n",
       "      <td>02-07-2010</td>\n",
       "      <td>23.000000</td>\n",
       "      <td>23.100000</td>\n",
       "      <td>18.709999</td>\n",
       "      <td>19.200001</td>\n",
       "      <td>19.200001</td>\n",
       "      <td>5139800</td>\n",
       "    </tr>\n",
       "    <tr>\n",
       "      <th>4</th>\n",
       "      <td>06-07-2010</td>\n",
       "      <td>20.000000</td>\n",
       "      <td>20.000000</td>\n",
       "      <td>15.830000</td>\n",
       "      <td>16.110001</td>\n",
       "      <td>16.110001</td>\n",
       "      <td>6866900</td>\n",
       "    </tr>\n",
       "    <tr>\n",
       "      <th>...</th>\n",
       "      <td>...</td>\n",
       "      <td>...</td>\n",
       "      <td>...</td>\n",
       "      <td>...</td>\n",
       "      <td>...</td>\n",
       "      <td>...</td>\n",
       "      <td>...</td>\n",
       "    </tr>\n",
       "    <tr>\n",
       "      <th>2188</th>\n",
       "      <td>11-03-2019</td>\n",
       "      <td>283.519989</td>\n",
       "      <td>291.279999</td>\n",
       "      <td>280.500000</td>\n",
       "      <td>290.920013</td>\n",
       "      <td>290.920013</td>\n",
       "      <td>7392300</td>\n",
       "    </tr>\n",
       "    <tr>\n",
       "      <th>2189</th>\n",
       "      <td>12-03-2019</td>\n",
       "      <td>286.489990</td>\n",
       "      <td>288.070007</td>\n",
       "      <td>281.059998</td>\n",
       "      <td>283.359985</td>\n",
       "      <td>283.359985</td>\n",
       "      <td>7504100</td>\n",
       "    </tr>\n",
       "    <tr>\n",
       "      <th>2190</th>\n",
       "      <td>13-03-2019</td>\n",
       "      <td>283.899994</td>\n",
       "      <td>291.989990</td>\n",
       "      <td>282.700012</td>\n",
       "      <td>288.959991</td>\n",
       "      <td>288.959991</td>\n",
       "      <td>6844700</td>\n",
       "    </tr>\n",
       "    <tr>\n",
       "      <th>2191</th>\n",
       "      <td>14-03-2019</td>\n",
       "      <td>292.450012</td>\n",
       "      <td>295.390015</td>\n",
       "      <td>288.290009</td>\n",
       "      <td>289.959991</td>\n",
       "      <td>289.959991</td>\n",
       "      <td>7074200</td>\n",
       "    </tr>\n",
       "    <tr>\n",
       "      <th>2192</th>\n",
       "      <td>15-03-2019</td>\n",
       "      <td>283.510010</td>\n",
       "      <td>283.723999</td>\n",
       "      <td>274.399994</td>\n",
       "      <td>275.429993</td>\n",
       "      <td>275.429993</td>\n",
       "      <td>14758243</td>\n",
       "    </tr>\n",
       "  </tbody>\n",
       "</table>\n",
       "<p>2193 rows × 7 columns</p>\n",
       "</div>"
      ],
      "text/plain": [
       "            Date        Open        High         Low       Close   Adj Close  \\\n",
       "0     29-06-2010   19.000000   25.000000   17.540001   23.889999   23.889999   \n",
       "1     30-06-2010   25.790001   30.420000   23.299999   23.830000   23.830000   \n",
       "2     01-07-2010   25.000000   25.920000   20.270000   21.959999   21.959999   \n",
       "3     02-07-2010   23.000000   23.100000   18.709999   19.200001   19.200001   \n",
       "4     06-07-2010   20.000000   20.000000   15.830000   16.110001   16.110001   \n",
       "...          ...         ...         ...         ...         ...         ...   \n",
       "2188  11-03-2019  283.519989  291.279999  280.500000  290.920013  290.920013   \n",
       "2189  12-03-2019  286.489990  288.070007  281.059998  283.359985  283.359985   \n",
       "2190  13-03-2019  283.899994  291.989990  282.700012  288.959991  288.959991   \n",
       "2191  14-03-2019  292.450012  295.390015  288.290009  289.959991  289.959991   \n",
       "2192  15-03-2019  283.510010  283.723999  274.399994  275.429993  275.429993   \n",
       "\n",
       "        Volume  \n",
       "0     18766300  \n",
       "1     17187100  \n",
       "2      8218800  \n",
       "3      5139800  \n",
       "4      6866900  \n",
       "...        ...  \n",
       "2188   7392300  \n",
       "2189   7504100  \n",
       "2190   6844700  \n",
       "2191   7074200  \n",
       "2192  14758243  \n",
       "\n",
       "[2193 rows x 7 columns]"
      ]
     },
     "execution_count": 10,
     "metadata": {},
     "output_type": "execute_result"
    }
   ],
   "source": [
    "data2"
   ]
  },
  {
   "cell_type": "code",
   "execution_count": 11,
   "metadata": {},
   "outputs": [
    {
     "data": {
      "text/html": [
       "<div>\n",
       "<style scoped>\n",
       "    .dataframe tbody tr th:only-of-type {\n",
       "        vertical-align: middle;\n",
       "    }\n",
       "\n",
       "    .dataframe tbody tr th {\n",
       "        vertical-align: top;\n",
       "    }\n",
       "\n",
       "    .dataframe thead th {\n",
       "        text-align: right;\n",
       "    }\n",
       "</style>\n",
       "<table border=\"1\" class=\"dataframe\">\n",
       "  <thead>\n",
       "    <tr style=\"text-align: right;\">\n",
       "      <th></th>\n",
       "      <th>Date</th>\n",
       "      <th>Close</th>\n",
       "    </tr>\n",
       "  </thead>\n",
       "  <tbody>\n",
       "    <tr>\n",
       "      <th>0</th>\n",
       "      <td>29-06-2010</td>\n",
       "      <td>23.889999</td>\n",
       "    </tr>\n",
       "    <tr>\n",
       "      <th>1</th>\n",
       "      <td>30-06-2010</td>\n",
       "      <td>23.830000</td>\n",
       "    </tr>\n",
       "    <tr>\n",
       "      <th>2</th>\n",
       "      <td>01-07-2010</td>\n",
       "      <td>21.959999</td>\n",
       "    </tr>\n",
       "    <tr>\n",
       "      <th>3</th>\n",
       "      <td>02-07-2010</td>\n",
       "      <td>19.200001</td>\n",
       "    </tr>\n",
       "    <tr>\n",
       "      <th>4</th>\n",
       "      <td>06-07-2010</td>\n",
       "      <td>16.110001</td>\n",
       "    </tr>\n",
       "    <tr>\n",
       "      <th>...</th>\n",
       "      <td>...</td>\n",
       "      <td>...</td>\n",
       "    </tr>\n",
       "    <tr>\n",
       "      <th>2188</th>\n",
       "      <td>11-03-2019</td>\n",
       "      <td>290.920013</td>\n",
       "    </tr>\n",
       "    <tr>\n",
       "      <th>2189</th>\n",
       "      <td>12-03-2019</td>\n",
       "      <td>283.359985</td>\n",
       "    </tr>\n",
       "    <tr>\n",
       "      <th>2190</th>\n",
       "      <td>13-03-2019</td>\n",
       "      <td>288.959991</td>\n",
       "    </tr>\n",
       "    <tr>\n",
       "      <th>2191</th>\n",
       "      <td>14-03-2019</td>\n",
       "      <td>289.959991</td>\n",
       "    </tr>\n",
       "    <tr>\n",
       "      <th>2192</th>\n",
       "      <td>15-03-2019</td>\n",
       "      <td>275.429993</td>\n",
       "    </tr>\n",
       "  </tbody>\n",
       "</table>\n",
       "<p>2193 rows × 2 columns</p>\n",
       "</div>"
      ],
      "text/plain": [
       "            Date       Close\n",
       "0     29-06-2010   23.889999\n",
       "1     30-06-2010   23.830000\n",
       "2     01-07-2010   21.959999\n",
       "3     02-07-2010   19.200001\n",
       "4     06-07-2010   16.110001\n",
       "...          ...         ...\n",
       "2188  11-03-2019  290.920013\n",
       "2189  12-03-2019  283.359985\n",
       "2190  13-03-2019  288.959991\n",
       "2191  14-03-2019  289.959991\n",
       "2192  15-03-2019  275.429993\n",
       "\n",
       "[2193 rows x 2 columns]"
      ]
     },
     "execution_count": 11,
     "metadata": {},
     "output_type": "execute_result"
    }
   ],
   "source": [
    "data2[['Date','Close']]"
   ]
  },
  {
   "cell_type": "markdown",
   "metadata": {},
   "source": [
    "# Model 7 LSTM with Adjusted Features"
   ]
  },
  {
   "cell_type": "code",
   "execution_count": 12,
   "metadata": {},
   "outputs": [],
   "source": [
    "X=data2.drop(columns=['Date','Adj Close','Volume','Close'],axis=1)\n",
    "y=data2['Close']"
   ]
  },
  {
   "cell_type": "code",
   "execution_count": 13,
   "metadata": {},
   "outputs": [
    {
     "data": {
      "text/html": [
       "<div>\n",
       "<style scoped>\n",
       "    .dataframe tbody tr th:only-of-type {\n",
       "        vertical-align: middle;\n",
       "    }\n",
       "\n",
       "    .dataframe tbody tr th {\n",
       "        vertical-align: top;\n",
       "    }\n",
       "\n",
       "    .dataframe thead th {\n",
       "        text-align: right;\n",
       "    }\n",
       "</style>\n",
       "<table border=\"1\" class=\"dataframe\">\n",
       "  <thead>\n",
       "    <tr style=\"text-align: right;\">\n",
       "      <th></th>\n",
       "      <th>Open</th>\n",
       "      <th>High</th>\n",
       "      <th>Low</th>\n",
       "    </tr>\n",
       "  </thead>\n",
       "  <tbody>\n",
       "    <tr>\n",
       "      <th>0</th>\n",
       "      <td>19.000000</td>\n",
       "      <td>25.000000</td>\n",
       "      <td>17.540001</td>\n",
       "    </tr>\n",
       "    <tr>\n",
       "      <th>1</th>\n",
       "      <td>25.790001</td>\n",
       "      <td>30.420000</td>\n",
       "      <td>23.299999</td>\n",
       "    </tr>\n",
       "    <tr>\n",
       "      <th>2</th>\n",
       "      <td>25.000000</td>\n",
       "      <td>25.920000</td>\n",
       "      <td>20.270000</td>\n",
       "    </tr>\n",
       "    <tr>\n",
       "      <th>3</th>\n",
       "      <td>23.000000</td>\n",
       "      <td>23.100000</td>\n",
       "      <td>18.709999</td>\n",
       "    </tr>\n",
       "    <tr>\n",
       "      <th>4</th>\n",
       "      <td>20.000000</td>\n",
       "      <td>20.000000</td>\n",
       "      <td>15.830000</td>\n",
       "    </tr>\n",
       "    <tr>\n",
       "      <th>...</th>\n",
       "      <td>...</td>\n",
       "      <td>...</td>\n",
       "      <td>...</td>\n",
       "    </tr>\n",
       "    <tr>\n",
       "      <th>2188</th>\n",
       "      <td>283.519989</td>\n",
       "      <td>291.279999</td>\n",
       "      <td>280.500000</td>\n",
       "    </tr>\n",
       "    <tr>\n",
       "      <th>2189</th>\n",
       "      <td>286.489990</td>\n",
       "      <td>288.070007</td>\n",
       "      <td>281.059998</td>\n",
       "    </tr>\n",
       "    <tr>\n",
       "      <th>2190</th>\n",
       "      <td>283.899994</td>\n",
       "      <td>291.989990</td>\n",
       "      <td>282.700012</td>\n",
       "    </tr>\n",
       "    <tr>\n",
       "      <th>2191</th>\n",
       "      <td>292.450012</td>\n",
       "      <td>295.390015</td>\n",
       "      <td>288.290009</td>\n",
       "    </tr>\n",
       "    <tr>\n",
       "      <th>2192</th>\n",
       "      <td>283.510010</td>\n",
       "      <td>283.723999</td>\n",
       "      <td>274.399994</td>\n",
       "    </tr>\n",
       "  </tbody>\n",
       "</table>\n",
       "<p>2193 rows × 3 columns</p>\n",
       "</div>"
      ],
      "text/plain": [
       "            Open        High         Low\n",
       "0      19.000000   25.000000   17.540001\n",
       "1      25.790001   30.420000   23.299999\n",
       "2      25.000000   25.920000   20.270000\n",
       "3      23.000000   23.100000   18.709999\n",
       "4      20.000000   20.000000   15.830000\n",
       "...          ...         ...         ...\n",
       "2188  283.519989  291.279999  280.500000\n",
       "2189  286.489990  288.070007  281.059998\n",
       "2190  283.899994  291.989990  282.700012\n",
       "2191  292.450012  295.390015  288.290009\n",
       "2192  283.510010  283.723999  274.399994\n",
       "\n",
       "[2193 rows x 3 columns]"
      ]
     },
     "execution_count": 13,
     "metadata": {},
     "output_type": "execute_result"
    }
   ],
   "source": [
    "X"
   ]
  },
  {
   "cell_type": "code",
   "execution_count": 216,
   "metadata": {},
   "outputs": [],
   "source": [
    "X_train,X_test=X.iloc[:train_index,:] , X.iloc[train_index:,:]\n",
    "y_train,y_test=y.iloc[:train_index] , y.iloc[train_index:]"
   ]
  },
  {
   "cell_type": "code",
   "execution_count": 217,
   "metadata": {},
   "outputs": [
    {
     "data": {
      "text/plain": [
       "(1752, 3)"
      ]
     },
     "execution_count": 217,
     "metadata": {},
     "output_type": "execute_result"
    }
   ],
   "source": [
    "X_train.shape"
   ]
  },
  {
   "cell_type": "code",
   "execution_count": 218,
   "metadata": {},
   "outputs": [],
   "source": [
    "import numpy as np\n",
    "X_train=np.expand_dims(X_train.values,1)\n",
    "X_test=np.expand_dims(X_test.values,1)"
   ]
  },
  {
   "cell_type": "code",
   "execution_count": 219,
   "metadata": {},
   "outputs": [
    {
     "data": {
      "text/plain": [
       "(1752, 1, 3)"
      ]
     },
     "execution_count": 219,
     "metadata": {},
     "output_type": "execute_result"
    }
   ],
   "source": [
    "X_train.shape"
   ]
  },
  {
   "cell_type": "code",
   "execution_count": 220,
   "metadata": {},
   "outputs": [],
   "source": [
    "model=Sequential()\n",
    "model.add(LSTM(128,input_shape=(1,3),activation='relu'))\n",
    "model.add(Dense(64,activation='relu'))\n",
    "model.add(Dense(32,activation='relu'))\n",
    "model.add(Dense(1))"
   ]
  },
  {
   "cell_type": "code",
   "execution_count": 221,
   "metadata": {},
   "outputs": [
    {
     "name": "stdout",
     "output_type": "stream",
     "text": [
      "Model: \"sequential_34\"\n",
      "_________________________________________________________________\n",
      " Layer (type)                Output Shape              Param #   \n",
      "=================================================================\n",
      " lstm_13 (LSTM)              (None, 128)               67584     \n",
      "                                                                 \n",
      " dense_50 (Dense)            (None, 64)                8256      \n",
      "                                                                 \n",
      " dense_51 (Dense)            (None, 32)                2080      \n",
      "                                                                 \n",
      " dense_52 (Dense)            (None, 1)                 33        \n",
      "                                                                 \n",
      "=================================================================\n",
      "Total params: 77,953\n",
      "Trainable params: 77,953\n",
      "Non-trainable params: 0\n",
      "_________________________________________________________________\n"
     ]
    }
   ],
   "source": [
    "model.summary()"
   ]
  },
  {
   "cell_type": "code",
   "execution_count": 222,
   "metadata": {},
   "outputs": [],
   "source": [
    "model.compile(optimizer='adam',loss='mean_squared_error',metrics=['mean_absolute_error'])"
   ]
  },
  {
   "cell_type": "code",
   "execution_count": 223,
   "metadata": {},
   "outputs": [
    {
     "name": "stdout",
     "output_type": "stream",
     "text": [
      "Epoch 1/10\n",
      "55/55 [==============================] - 1s 7ms/step - loss: 7700.2339 - mean_absolute_error: 51.6458 - val_loss: 296.6527 - val_mean_absolute_error: 16.3221\n",
      "Epoch 2/10\n",
      "55/55 [==============================] - 0s 3ms/step - loss: 13.3525 - mean_absolute_error: 2.4636 - val_loss: 31.0998 - val_mean_absolute_error: 4.2561\n",
      "Epoch 3/10\n",
      "55/55 [==============================] - 0s 3ms/step - loss: 6.3596 - mean_absolute_error: 1.6277 - val_loss: 30.6899 - val_mean_absolute_error: 4.2118\n",
      "Epoch 4/10\n",
      "55/55 [==============================] - 0s 3ms/step - loss: 6.0818 - mean_absolute_error: 1.5931 - val_loss: 29.3516 - val_mean_absolute_error: 4.1911\n",
      "Epoch 5/10\n",
      "55/55 [==============================] - 0s 3ms/step - loss: 6.1985 - mean_absolute_error: 1.6210 - val_loss: 34.0832 - val_mean_absolute_error: 4.6128\n",
      "Epoch 6/10\n",
      "55/55 [==============================] - 0s 3ms/step - loss: 5.8421 - mean_absolute_error: 1.5842 - val_loss: 22.2434 - val_mean_absolute_error: 3.7067\n",
      "Epoch 7/10\n",
      "55/55 [==============================] - 0s 3ms/step - loss: 4.8616 - mean_absolute_error: 1.4520 - val_loss: 19.2540 - val_mean_absolute_error: 3.4909\n",
      "Epoch 8/10\n",
      "55/55 [==============================] - 0s 3ms/step - loss: 4.4972 - mean_absolute_error: 1.4045 - val_loss: 27.4429 - val_mean_absolute_error: 4.4423\n",
      "Epoch 9/10\n",
      "55/55 [==============================] - 0s 3ms/step - loss: 4.5291 - mean_absolute_error: 1.4067 - val_loss: 27.5022 - val_mean_absolute_error: 4.4890\n",
      "Epoch 10/10\n",
      "55/55 [==============================] - 0s 3ms/step - loss: 4.1715 - mean_absolute_error: 1.3614 - val_loss: 16.9755 - val_mean_absolute_error: 3.0925\n"
     ]
    },
    {
     "data": {
      "text/plain": [
       "<keras.callbacks.History at 0x7fc4cabb7b10>"
      ]
     },
     "execution_count": 223,
     "metadata": {},
     "output_type": "execute_result"
    }
   ],
   "source": [
    "model.fit(X_train,y_train,validation_data=(X_test,y_test),epochs=10)"
   ]
  },
  {
   "cell_type": "code",
   "execution_count": 224,
   "metadata": {},
   "outputs": [],
   "source": [
    "y_test_pred=model.predict(X_test).ravel()"
   ]
  },
  {
   "cell_type": "code",
   "execution_count": 225,
   "metadata": {},
   "outputs": [
    {
     "data": {
      "text/plain": [
       "3.0924792655098488"
      ]
     },
     "execution_count": 225,
     "metadata": {},
     "output_type": "execute_result"
    }
   ],
   "source": [
    "mean_absolute_error(y_test,y_test_pred)"
   ]
  },
  {
   "cell_type": "markdown",
   "metadata": {},
   "source": [
    "### Model 8"
   ]
  },
  {
   "cell_type": "code",
   "execution_count": 50,
   "metadata": {},
   "outputs": [],
   "source": [
    "# (Open,High,Low,Close):\n",
    "\n",
    "# ## RSI: Relative Strenght Index\n",
    "# ## EMA: Exponential Moving Average\n",
    "# ## CCI: Commodity Channel Index\n",
    "# ## ADX: average directional index\n",
    "# ## WPR:\n",
    "# ## ROC"
   ]
  },
  {
   "cell_type": "code",
   "execution_count": 46,
   "metadata": {},
   "outputs": [],
   "source": [
    "#Calculating RSI\n",
    "import numpy as np\n",
    "def RSI(series, period):\n",
    "    delta = series.diff().dropna()\n",
    "    u = delta * 0\n",
    "    d = u.copy()\n",
    "    u[delta > 0] = delta[delta > 0]\n",
    "    d[delta < 0] = -delta[delta < 0]\n",
    "    u[u.index[period-1]] = np.mean( u[:period] ) #first value is sum of avg gains\n",
    "    u = u.drop(u.index[:(period-1)])\n",
    "    d[d.index[period-1]] = np.mean( d[:period] ) #first value is sum of avg losses\n",
    "    d = d.drop(d.index[:(period-1)])\n",
    "    rs = pd.DataFrame.ewm(u, com=period-1, adjust=False).mean() / \\\n",
    "         pd.DataFrame.ewm(d, com=period-1, adjust=False).mean()\n",
    "    return 100 - 100 / (1 + rs)\n",
    "\n",
    "\n",
    "#Calculating EMA\n",
    "def calculate_ema(prices, days, smoothing=2):\n",
    "    ema = [sum(prices[:days]) / days]\n",
    "    for price in prices[days:]:\n",
    "        ema.append((price * (smoothing / (1 + days))) + ema[-1] * (1 - (smoothing / (1 + days))))\n",
    "    return ema\n",
    "\n",
    "\n",
    "# Calculating CCI\n",
    "def calculate_cci(df,period):\n",
    "    TP = df[['High','Low','Close']].mean(1)\n",
    "    CCI = (TP-TP.rolling(period).mean())#/(0.015*TP.rolling(period).std())  #check the formula\n",
    "    return CCI.fillna(0)\n"
   ]
  },
  {
   "cell_type": "code",
   "execution_count": 30,
   "metadata": {},
   "outputs": [],
   "source": [
    "## Predict the close price for next week (7 days from now)\n",
    "future_days=7\n",
    "data2['Prediction']=data2['Close'].shift(-future_days)"
   ]
  },
  {
   "cell_type": "code",
   "execution_count": 31,
   "metadata": {},
   "outputs": [],
   "source": [
    "X=data2.drop('Prediction',axis=1)\n",
    "y=data2['Prediction']"
   ]
  },
  {
   "cell_type": "code",
   "execution_count": 36,
   "metadata": {},
   "outputs": [],
   "source": [
    "X['RSI']=RSI(X['Close'],2)"
   ]
  },
  {
   "cell_type": "code",
   "execution_count": 48,
   "metadata": {},
   "outputs": [],
   "source": [
    "X['CCI']=calculate_cci(X,2)"
   ]
  },
  {
   "cell_type": "code",
   "execution_count": 56,
   "metadata": {},
   "outputs": [],
   "source": [
    "X.loc[1:,'MAE']=calculate_ema(X['Close'], 2, 2)"
   ]
  },
  {
   "cell_type": "code",
   "execution_count": 57,
   "metadata": {},
   "outputs": [
    {
     "data": {
      "text/html": [
       "<div>\n",
       "<style scoped>\n",
       "    .dataframe tbody tr th:only-of-type {\n",
       "        vertical-align: middle;\n",
       "    }\n",
       "\n",
       "    .dataframe tbody tr th {\n",
       "        vertical-align: top;\n",
       "    }\n",
       "\n",
       "    .dataframe thead th {\n",
       "        text-align: right;\n",
       "    }\n",
       "</style>\n",
       "<table border=\"1\" class=\"dataframe\">\n",
       "  <thead>\n",
       "    <tr style=\"text-align: right;\">\n",
       "      <th></th>\n",
       "      <th>Date</th>\n",
       "      <th>Open</th>\n",
       "      <th>High</th>\n",
       "      <th>Low</th>\n",
       "      <th>Close</th>\n",
       "      <th>Adj Close</th>\n",
       "      <th>Volume</th>\n",
       "      <th>RSI</th>\n",
       "      <th>CCI</th>\n",
       "      <th>MAE</th>\n",
       "    </tr>\n",
       "  </thead>\n",
       "  <tbody>\n",
       "    <tr>\n",
       "      <th>0</th>\n",
       "      <td>29-06-2010</td>\n",
       "      <td>19.000000</td>\n",
       "      <td>25.000000</td>\n",
       "      <td>17.540001</td>\n",
       "      <td>23.889999</td>\n",
       "      <td>23.889999</td>\n",
       "      <td>18766300</td>\n",
       "      <td>NaN</td>\n",
       "      <td>0.000000</td>\n",
       "      <td>NaN</td>\n",
       "    </tr>\n",
       "    <tr>\n",
       "      <th>1</th>\n",
       "      <td>30-06-2010</td>\n",
       "      <td>25.790001</td>\n",
       "      <td>30.420000</td>\n",
       "      <td>23.299999</td>\n",
       "      <td>23.830000</td>\n",
       "      <td>23.830000</td>\n",
       "      <td>17187100</td>\n",
       "      <td>NaN</td>\n",
       "      <td>1.853333</td>\n",
       "      <td>23.860000</td>\n",
       "    </tr>\n",
       "    <tr>\n",
       "      <th>2</th>\n",
       "      <td>01-07-2010</td>\n",
       "      <td>25.000000</td>\n",
       "      <td>25.920000</td>\n",
       "      <td>20.270000</td>\n",
       "      <td>21.959999</td>\n",
       "      <td>21.959999</td>\n",
       "      <td>8218800</td>\n",
       "      <td>0.000000</td>\n",
       "      <td>-1.566667</td>\n",
       "      <td>22.593332</td>\n",
       "    </tr>\n",
       "    <tr>\n",
       "      <th>3</th>\n",
       "      <td>02-07-2010</td>\n",
       "      <td>23.000000</td>\n",
       "      <td>23.100000</td>\n",
       "      <td>18.709999</td>\n",
       "      <td>19.200001</td>\n",
       "      <td>19.200001</td>\n",
       "      <td>5139800</td>\n",
       "      <td>0.000000</td>\n",
       "      <td>-1.190000</td>\n",
       "      <td>20.331111</td>\n",
       "    </tr>\n",
       "    <tr>\n",
       "      <th>4</th>\n",
       "      <td>06-07-2010</td>\n",
       "      <td>20.000000</td>\n",
       "      <td>20.000000</td>\n",
       "      <td>15.830000</td>\n",
       "      <td>16.110001</td>\n",
       "      <td>16.110001</td>\n",
       "      <td>6866900</td>\n",
       "      <td>0.000000</td>\n",
       "      <td>-1.511667</td>\n",
       "      <td>17.517038</td>\n",
       "    </tr>\n",
       "    <tr>\n",
       "      <th>...</th>\n",
       "      <td>...</td>\n",
       "      <td>...</td>\n",
       "      <td>...</td>\n",
       "      <td>...</td>\n",
       "      <td>...</td>\n",
       "      <td>...</td>\n",
       "      <td>...</td>\n",
       "      <td>...</td>\n",
       "      <td>...</td>\n",
       "      <td>...</td>\n",
       "    </tr>\n",
       "    <tr>\n",
       "      <th>2188</th>\n",
       "      <td>11-03-2019</td>\n",
       "      <td>283.519989</td>\n",
       "      <td>291.279999</td>\n",
       "      <td>280.500000</td>\n",
       "      <td>290.920013</td>\n",
       "      <td>290.920013</td>\n",
       "      <td>7392300</td>\n",
       "      <td>89.359133</td>\n",
       "      <td>2.846664</td>\n",
       "      <td>287.870920</td>\n",
       "    </tr>\n",
       "    <tr>\n",
       "      <th>2189</th>\n",
       "      <td>12-03-2019</td>\n",
       "      <td>286.489990</td>\n",
       "      <td>288.070007</td>\n",
       "      <td>281.059998</td>\n",
       "      <td>283.359985</td>\n",
       "      <td>283.359985</td>\n",
       "      <td>7504100</td>\n",
       "      <td>39.603643</td>\n",
       "      <td>-1.701670</td>\n",
       "      <td>284.863630</td>\n",
       "    </tr>\n",
       "    <tr>\n",
       "      <th>2190</th>\n",
       "      <td>13-03-2019</td>\n",
       "      <td>283.899994</td>\n",
       "      <td>291.989990</td>\n",
       "      <td>282.700012</td>\n",
       "      <td>288.959991</td>\n",
       "      <td>288.959991</td>\n",
       "      <td>6844700</td>\n",
       "      <td>66.904149</td>\n",
       "      <td>1.860000</td>\n",
       "      <td>287.594537</td>\n",
       "    </tr>\n",
       "    <tr>\n",
       "      <th>2191</th>\n",
       "      <td>14-03-2019</td>\n",
       "      <td>292.450012</td>\n",
       "      <td>295.390015</td>\n",
       "      <td>288.290009</td>\n",
       "      <td>289.959991</td>\n",
       "      <td>289.959991</td>\n",
       "      <td>7074200</td>\n",
       "      <td>71.504379</td>\n",
       "      <td>1.665004</td>\n",
       "      <td>289.171506</td>\n",
       "    </tr>\n",
       "    <tr>\n",
       "      <th>2192</th>\n",
       "      <td>15-03-2019</td>\n",
       "      <td>283.510010</td>\n",
       "      <td>283.723999</td>\n",
       "      <td>274.399994</td>\n",
       "      <td>275.429993</td>\n",
       "      <td>275.429993</td>\n",
       "      <td>14758243</td>\n",
       "      <td>14.189466</td>\n",
       "      <td>-6.681005</td>\n",
       "      <td>280.010497</td>\n",
       "    </tr>\n",
       "  </tbody>\n",
       "</table>\n",
       "<p>2193 rows × 10 columns</p>\n",
       "</div>"
      ],
      "text/plain": [
       "            Date        Open        High         Low       Close   Adj Close  \\\n",
       "0     29-06-2010   19.000000   25.000000   17.540001   23.889999   23.889999   \n",
       "1     30-06-2010   25.790001   30.420000   23.299999   23.830000   23.830000   \n",
       "2     01-07-2010   25.000000   25.920000   20.270000   21.959999   21.959999   \n",
       "3     02-07-2010   23.000000   23.100000   18.709999   19.200001   19.200001   \n",
       "4     06-07-2010   20.000000   20.000000   15.830000   16.110001   16.110001   \n",
       "...          ...         ...         ...         ...         ...         ...   \n",
       "2188  11-03-2019  283.519989  291.279999  280.500000  290.920013  290.920013   \n",
       "2189  12-03-2019  286.489990  288.070007  281.059998  283.359985  283.359985   \n",
       "2190  13-03-2019  283.899994  291.989990  282.700012  288.959991  288.959991   \n",
       "2191  14-03-2019  292.450012  295.390015  288.290009  289.959991  289.959991   \n",
       "2192  15-03-2019  283.510010  283.723999  274.399994  275.429993  275.429993   \n",
       "\n",
       "        Volume        RSI       CCI         MAE  \n",
       "0     18766300        NaN  0.000000         NaN  \n",
       "1     17187100        NaN  1.853333   23.860000  \n",
       "2      8218800   0.000000 -1.566667   22.593332  \n",
       "3      5139800   0.000000 -1.190000   20.331111  \n",
       "4      6866900   0.000000 -1.511667   17.517038  \n",
       "...        ...        ...       ...         ...  \n",
       "2188   7392300  89.359133  2.846664  287.870920  \n",
       "2189   7504100  39.603643 -1.701670  284.863630  \n",
       "2190   6844700  66.904149  1.860000  287.594537  \n",
       "2191   7074200  71.504379  1.665004  289.171506  \n",
       "2192  14758243  14.189466 -6.681005  280.010497  \n",
       "\n",
       "[2193 rows x 10 columns]"
      ]
     },
     "execution_count": 57,
     "metadata": {},
     "output_type": "execute_result"
    }
   ],
   "source": [
    "X"
   ]
  },
  {
   "cell_type": "code",
   "execution_count": null,
   "metadata": {},
   "outputs": [],
   "source": []
  }
 ],
 "metadata": {
  "kernelspec": {
   "display_name": "Python 3 (ipykernel)",
   "language": "python",
   "name": "python3"
  },
  "language_info": {
   "codemirror_mode": {
    "name": "ipython",
    "version": 3
   },
   "file_extension": ".py",
   "mimetype": "text/x-python",
   "name": "python",
   "nbconvert_exporter": "python",
   "pygments_lexer": "ipython3",
   "version": "3.9.12"
  }
 },
 "nbformat": 4,
 "nbformat_minor": 4
}
